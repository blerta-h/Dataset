{
 "cells": [
  {
   "cell_type": "code",
   "execution_count": 4,
   "id": "8f97ad29",
   "metadata": {},
   "outputs": [],
   "source": [
    "personi = {\n",
    "    \"emri\":\"Blerta\",\n",
    "    \"mbiemri\":\"Hoxha\",\n",
    "    \"email\":\"blerta.hoxha@gmail.com\"\n",
    "}"
   ]
  },
  {
   "cell_type": "code",
   "execution_count": 5,
   "id": "8d389aea",
   "metadata": {},
   "outputs": [],
   "source": [
    "personat = {\n",
    "    \"emri\": [\"Blerta\"],\n",
    "    \"mbiemri\": [\"Hoxha\"],\n",
    "    \"email\": [\"blerta.hoxha@gmail.com\"]\n",
    "}"
   ]
  },
  {
   "cell_type": "code",
   "execution_count": 6,
   "id": "fe52d1df",
   "metadata": {},
   "outputs": [],
   "source": [
    "personat = {\n",
    "    \"emri\": [\"Blerta\", \"Agon\", \"Bernard\", \"Arbnor\"],\n",
    "    \"mbiemri\": [\"Hoxha\", \"Salihu\", \"Kastrati\", \"Hetemi\"],\n",
    "    \"email\": [\"blerta.hoxha@gmail.com\", \"agon.salihu@gmail.com\", \"bernard.kastrati@gmail.com\", \"arbnor.hetemi@gmail.com\"]\n",
    "}"
   ]
  },
  {
   "cell_type": "code",
   "execution_count": 4,
   "id": "8297cccc",
   "metadata": {},
   "outputs": [
    {
     "data": {
      "text/plain": [
       "['blerta.hoxha@gmail.com',\n",
       " 'agon.salihu@gmail.com',\n",
       " 'bernard.kastrati@gmail.com',\n",
       " 'arbnor.hetemi@gmail.com']"
      ]
     },
     "execution_count": 4,
     "metadata": {},
     "output_type": "execute_result"
    }
   ],
   "source": [
    "personat['email']"
   ]
  },
  {
   "cell_type": "code",
   "execution_count": 5,
   "id": "6f490e72",
   "metadata": {},
   "outputs": [],
   "source": [
    "import pandas as pd"
   ]
  },
  {
   "cell_type": "code",
   "execution_count": 6,
   "id": "8fb57fdd",
   "metadata": {},
   "outputs": [],
   "source": [
    "df=pd.DataFrame(personat)"
   ]
  },
  {
   "cell_type": "code",
   "execution_count": 7,
   "id": "a16d71ce",
   "metadata": {},
   "outputs": [
    {
     "data": {
      "text/html": [
       "<div>\n",
       "<style scoped>\n",
       "    .dataframe tbody tr th:only-of-type {\n",
       "        vertical-align: middle;\n",
       "    }\n",
       "\n",
       "    .dataframe tbody tr th {\n",
       "        vertical-align: top;\n",
       "    }\n",
       "\n",
       "    .dataframe thead th {\n",
       "        text-align: right;\n",
       "    }\n",
       "</style>\n",
       "<table border=\"1\" class=\"dataframe\">\n",
       "  <thead>\n",
       "    <tr style=\"text-align: right;\">\n",
       "      <th></th>\n",
       "      <th>emri</th>\n",
       "      <th>mbiemri</th>\n",
       "      <th>email</th>\n",
       "    </tr>\n",
       "  </thead>\n",
       "  <tbody>\n",
       "    <tr>\n",
       "      <th>0</th>\n",
       "      <td>Blerta</td>\n",
       "      <td>Hoxha</td>\n",
       "      <td>blerta.hoxha@gmail.com</td>\n",
       "    </tr>\n",
       "    <tr>\n",
       "      <th>1</th>\n",
       "      <td>Agon</td>\n",
       "      <td>Salihu</td>\n",
       "      <td>agon.salihu@gmail.com</td>\n",
       "    </tr>\n",
       "    <tr>\n",
       "      <th>2</th>\n",
       "      <td>Bernard</td>\n",
       "      <td>Kastrati</td>\n",
       "      <td>bernard.kastrati@gmail.com</td>\n",
       "    </tr>\n",
       "    <tr>\n",
       "      <th>3</th>\n",
       "      <td>Arbnor</td>\n",
       "      <td>Hetemi</td>\n",
       "      <td>arbnor.hetemi@gmail.com</td>\n",
       "    </tr>\n",
       "  </tbody>\n",
       "</table>\n",
       "</div>"
      ],
      "text/plain": [
       "      emri   mbiemri                       email\n",
       "0   Blerta     Hoxha      blerta.hoxha@gmail.com\n",
       "1     Agon    Salihu       agon.salihu@gmail.com\n",
       "2  Bernard  Kastrati  bernard.kastrati@gmail.com\n",
       "3   Arbnor    Hetemi     arbnor.hetemi@gmail.com"
      ]
     },
     "execution_count": 7,
     "metadata": {},
     "output_type": "execute_result"
    }
   ],
   "source": [
    "df"
   ]
  },
  {
   "cell_type": "code",
   "execution_count": 8,
   "id": "0b497135",
   "metadata": {},
   "outputs": [
    {
     "data": {
      "text/plain": [
       "0        blerta.hoxha@gmail.com\n",
       "1         agon.salihu@gmail.com\n",
       "2    bernard.kastrati@gmail.com\n",
       "3       arbnor.hetemi@gmail.com\n",
       "Name: email, dtype: object"
      ]
     },
     "execution_count": 8,
     "metadata": {},
     "output_type": "execute_result"
    }
   ],
   "source": [
    "df['email']"
   ]
  },
  {
   "cell_type": "code",
   "execution_count": 9,
   "id": "e4b32aca",
   "metadata": {},
   "outputs": [
    {
     "data": {
      "text/plain": [
       "pandas.core.series.Series"
      ]
     },
     "execution_count": 9,
     "metadata": {},
     "output_type": "execute_result"
    }
   ],
   "source": [
    "type(df['email'])"
   ]
  },
  {
   "cell_type": "code",
   "execution_count": 10,
   "id": "d871e09e",
   "metadata": {},
   "outputs": [
    {
     "data": {
      "text/plain": [
       "0        blerta.hoxha@gmail.com\n",
       "1         agon.salihu@gmail.com\n",
       "2    bernard.kastrati@gmail.com\n",
       "3       arbnor.hetemi@gmail.com\n",
       "Name: email, dtype: object"
      ]
     },
     "execution_count": 10,
     "metadata": {},
     "output_type": "execute_result"
    }
   ],
   "source": [
    "df.email"
   ]
  },
  {
   "cell_type": "code",
   "execution_count": 13,
   "id": "256f4cfe",
   "metadata": {},
   "outputs": [
    {
     "data": {
      "text/html": [
       "<div>\n",
       "<style scoped>\n",
       "    .dataframe tbody tr th:only-of-type {\n",
       "        vertical-align: middle;\n",
       "    }\n",
       "\n",
       "    .dataframe tbody tr th {\n",
       "        vertical-align: top;\n",
       "    }\n",
       "\n",
       "    .dataframe thead th {\n",
       "        text-align: right;\n",
       "    }\n",
       "</style>\n",
       "<table border=\"1\" class=\"dataframe\">\n",
       "  <thead>\n",
       "    <tr style=\"text-align: right;\">\n",
       "      <th></th>\n",
       "      <th>emri</th>\n",
       "      <th>email</th>\n",
       "    </tr>\n",
       "  </thead>\n",
       "  <tbody>\n",
       "    <tr>\n",
       "      <th>0</th>\n",
       "      <td>Blerta</td>\n",
       "      <td>blerta.hoxha@gmail.com</td>\n",
       "    </tr>\n",
       "    <tr>\n",
       "      <th>1</th>\n",
       "      <td>Agon</td>\n",
       "      <td>agon.salihu@gmail.com</td>\n",
       "    </tr>\n",
       "    <tr>\n",
       "      <th>2</th>\n",
       "      <td>Bernard</td>\n",
       "      <td>bernard.kastrati@gmail.com</td>\n",
       "    </tr>\n",
       "    <tr>\n",
       "      <th>3</th>\n",
       "      <td>Arbnor</td>\n",
       "      <td>arbnor.hetemi@gmail.com</td>\n",
       "    </tr>\n",
       "  </tbody>\n",
       "</table>\n",
       "</div>"
      ],
      "text/plain": [
       "      emri                       email\n",
       "0   Blerta      blerta.hoxha@gmail.com\n",
       "1     Agon       agon.salihu@gmail.com\n",
       "2  Bernard  bernard.kastrati@gmail.com\n",
       "3   Arbnor     arbnor.hetemi@gmail.com"
      ]
     },
     "execution_count": 13,
     "metadata": {},
     "output_type": "execute_result"
    }
   ],
   "source": [
    "df[['emri','email']]"
   ]
  },
  {
   "cell_type": "code",
   "execution_count": 14,
   "id": "4b44115e",
   "metadata": {},
   "outputs": [
    {
     "data": {
      "text/plain": [
       "Index(['emri', 'mbiemri', 'email'], dtype='object')"
      ]
     },
     "execution_count": 14,
     "metadata": {},
     "output_type": "execute_result"
    }
   ],
   "source": [
    "df.columns"
   ]
  },
  {
   "cell_type": "code",
   "execution_count": 15,
   "id": "68b7e7a8",
   "metadata": {},
   "outputs": [
    {
     "data": {
      "text/plain": [
       "emri                       Blerta\n",
       "mbiemri                     Hoxha\n",
       "email      blerta.hoxha@gmail.com\n",
       "Name: 0, dtype: object"
      ]
     },
     "execution_count": 15,
     "metadata": {},
     "output_type": "execute_result"
    }
   ],
   "source": [
    "df.loc[0]"
   ]
  },
  {
   "cell_type": "code",
   "execution_count": 16,
   "id": "90f9acba",
   "metadata": {},
   "outputs": [
    {
     "data": {
      "text/html": [
       "<div>\n",
       "<style scoped>\n",
       "    .dataframe tbody tr th:only-of-type {\n",
       "        vertical-align: middle;\n",
       "    }\n",
       "\n",
       "    .dataframe tbody tr th {\n",
       "        vertical-align: top;\n",
       "    }\n",
       "\n",
       "    .dataframe thead th {\n",
       "        text-align: right;\n",
       "    }\n",
       "</style>\n",
       "<table border=\"1\" class=\"dataframe\">\n",
       "  <thead>\n",
       "    <tr style=\"text-align: right;\">\n",
       "      <th></th>\n",
       "      <th>emri</th>\n",
       "      <th>mbiemri</th>\n",
       "      <th>email</th>\n",
       "    </tr>\n",
       "  </thead>\n",
       "  <tbody>\n",
       "    <tr>\n",
       "      <th>0</th>\n",
       "      <td>Blerta</td>\n",
       "      <td>Hoxha</td>\n",
       "      <td>blerta.hoxha@gmail.com</td>\n",
       "    </tr>\n",
       "    <tr>\n",
       "      <th>1</th>\n",
       "      <td>Agon</td>\n",
       "      <td>Salihu</td>\n",
       "      <td>agon.salihu@gmail.com</td>\n",
       "    </tr>\n",
       "  </tbody>\n",
       "</table>\n",
       "</div>"
      ],
      "text/plain": [
       "     emri mbiemri                   email\n",
       "0  Blerta   Hoxha  blerta.hoxha@gmail.com\n",
       "1    Agon  Salihu   agon.salihu@gmail.com"
      ]
     },
     "execution_count": 16,
     "metadata": {},
     "output_type": "execute_result"
    }
   ],
   "source": [
    "df.iloc[[0,1]]"
   ]
  },
  {
   "cell_type": "code",
   "execution_count": 17,
   "id": "8680ee75",
   "metadata": {},
   "outputs": [
    {
     "data": {
      "text/plain": [
       "0    blerta.hoxha@gmail.com\n",
       "1     agon.salihu@gmail.com\n",
       "Name: email, dtype: object"
      ]
     },
     "execution_count": 17,
     "metadata": {},
     "output_type": "execute_result"
    }
   ],
   "source": [
    "df.iloc[[0,1],2]"
   ]
  },
  {
   "cell_type": "code",
   "execution_count": 18,
   "id": "da74efb2",
   "metadata": {},
   "outputs": [
    {
     "data": {
      "text/plain": [
       "0     Hoxha\n",
       "1    Salihu\n",
       "Name: mbiemri, dtype: object"
      ]
     },
     "execution_count": 18,
     "metadata": {},
     "output_type": "execute_result"
    }
   ],
   "source": [
    "df.iloc[[0,1],1]"
   ]
  },
  {
   "cell_type": "code",
   "execution_count": 19,
   "id": "2eb1317c",
   "metadata": {},
   "outputs": [
    {
     "data": {
      "text/html": [
       "<div>\n",
       "<style scoped>\n",
       "    .dataframe tbody tr th:only-of-type {\n",
       "        vertical-align: middle;\n",
       "    }\n",
       "\n",
       "    .dataframe tbody tr th {\n",
       "        vertical-align: top;\n",
       "    }\n",
       "\n",
       "    .dataframe thead th {\n",
       "        text-align: right;\n",
       "    }\n",
       "</style>\n",
       "<table border=\"1\" class=\"dataframe\">\n",
       "  <thead>\n",
       "    <tr style=\"text-align: right;\">\n",
       "      <th></th>\n",
       "      <th>emri</th>\n",
       "      <th>mbiemri</th>\n",
       "      <th>email</th>\n",
       "    </tr>\n",
       "  </thead>\n",
       "  <tbody>\n",
       "    <tr>\n",
       "      <th>0</th>\n",
       "      <td>Blerta</td>\n",
       "      <td>Hoxha</td>\n",
       "      <td>blerta.hoxha@gmail.com</td>\n",
       "    </tr>\n",
       "    <tr>\n",
       "      <th>1</th>\n",
       "      <td>Agon</td>\n",
       "      <td>Salihu</td>\n",
       "      <td>agon.salihu@gmail.com</td>\n",
       "    </tr>\n",
       "  </tbody>\n",
       "</table>\n",
       "</div>"
      ],
      "text/plain": [
       "     emri mbiemri                   email\n",
       "0  Blerta   Hoxha  blerta.hoxha@gmail.com\n",
       "1    Agon  Salihu   agon.salihu@gmail.com"
      ]
     },
     "execution_count": 19,
     "metadata": {},
     "output_type": "execute_result"
    }
   ],
   "source": [
    "df.loc[[0,1]]"
   ]
  },
  {
   "cell_type": "code",
   "execution_count": 20,
   "id": "08129051",
   "metadata": {},
   "outputs": [
    {
     "data": {
      "text/plain": [
       "0    blerta.hoxha@gmail.com\n",
       "1     agon.salihu@gmail.com\n",
       "Name: email, dtype: object"
      ]
     },
     "execution_count": 20,
     "metadata": {},
     "output_type": "execute_result"
    }
   ],
   "source": [
    "df.loc[[0,1],'email']"
   ]
  },
  {
   "cell_type": "code",
   "execution_count": 26,
   "id": "4265bf2c",
   "metadata": {},
   "outputs": [
    {
     "data": {
      "text/html": [
       "<div>\n",
       "<style scoped>\n",
       "    .dataframe tbody tr th:only-of-type {\n",
       "        vertical-align: middle;\n",
       "    }\n",
       "\n",
       "    .dataframe tbody tr th {\n",
       "        vertical-align: top;\n",
       "    }\n",
       "\n",
       "    .dataframe thead th {\n",
       "        text-align: right;\n",
       "    }\n",
       "</style>\n",
       "<table border=\"1\" class=\"dataframe\">\n",
       "  <thead>\n",
       "    <tr style=\"text-align: right;\">\n",
       "      <th></th>\n",
       "      <th>mbiemri</th>\n",
       "      <th>emri</th>\n",
       "    </tr>\n",
       "  </thead>\n",
       "  <tbody>\n",
       "    <tr>\n",
       "      <th>0</th>\n",
       "      <td>Hoxha</td>\n",
       "      <td>Blerta</td>\n",
       "    </tr>\n",
       "    <tr>\n",
       "      <th>1</th>\n",
       "      <td>Salihu</td>\n",
       "      <td>Agon</td>\n",
       "    </tr>\n",
       "  </tbody>\n",
       "</table>\n",
       "</div>"
      ],
      "text/plain": [
       "  mbiemri    emri\n",
       "0   Hoxha  Blerta\n",
       "1  Salihu    Agon"
      ]
     },
     "execution_count": 26,
     "metadata": {},
     "output_type": "execute_result"
    }
   ],
   "source": [
    "df.loc[[0,1],['mbiemri','emri']]"
   ]
  },
  {
   "cell_type": "code",
   "execution_count": 2,
   "id": "12811755",
   "metadata": {},
   "outputs": [],
   "source": [
    "import pandas as pd"
   ]
  },
  {
   "cell_type": "code",
   "execution_count": 7,
   "id": "3d820e12",
   "metadata": {},
   "outputs": [],
   "source": [
    "df = pd.DataFrame(personat)"
   ]
  },
  {
   "cell_type": "code",
   "execution_count": 8,
   "id": "7b34cdfa",
   "metadata": {},
   "outputs": [
    {
     "data": {
      "text/html": [
       "<div>\n",
       "<style scoped>\n",
       "    .dataframe tbody tr th:only-of-type {\n",
       "        vertical-align: middle;\n",
       "    }\n",
       "\n",
       "    .dataframe tbody tr th {\n",
       "        vertical-align: top;\n",
       "    }\n",
       "\n",
       "    .dataframe thead th {\n",
       "        text-align: right;\n",
       "    }\n",
       "</style>\n",
       "<table border=\"1\" class=\"dataframe\">\n",
       "  <thead>\n",
       "    <tr style=\"text-align: right;\">\n",
       "      <th></th>\n",
       "      <th>emri</th>\n",
       "      <th>mbiemri</th>\n",
       "      <th>email</th>\n",
       "    </tr>\n",
       "  </thead>\n",
       "  <tbody>\n",
       "    <tr>\n",
       "      <th>0</th>\n",
       "      <td>Blerta</td>\n",
       "      <td>Hoxha</td>\n",
       "      <td>blerta.hoxha@gmail.com</td>\n",
       "    </tr>\n",
       "    <tr>\n",
       "      <th>1</th>\n",
       "      <td>Agon</td>\n",
       "      <td>Salihu</td>\n",
       "      <td>agon.salihu@gmail.com</td>\n",
       "    </tr>\n",
       "    <tr>\n",
       "      <th>2</th>\n",
       "      <td>Bernard</td>\n",
       "      <td>Kastrati</td>\n",
       "      <td>bernard.kastrati@gmail.com</td>\n",
       "    </tr>\n",
       "    <tr>\n",
       "      <th>3</th>\n",
       "      <td>Arbnor</td>\n",
       "      <td>Hetemi</td>\n",
       "      <td>arbnor.hetemi@gmail.com</td>\n",
       "    </tr>\n",
       "  </tbody>\n",
       "</table>\n",
       "</div>"
      ],
      "text/plain": [
       "      emri   mbiemri                       email\n",
       "0   Blerta     Hoxha      blerta.hoxha@gmail.com\n",
       "1     Agon    Salihu       agon.salihu@gmail.com\n",
       "2  Bernard  Kastrati  bernard.kastrati@gmail.com\n",
       "3   Arbnor    Hetemi     arbnor.hetemi@gmail.com"
      ]
     },
     "execution_count": 8,
     "metadata": {},
     "output_type": "execute_result"
    }
   ],
   "source": [
    "df\n"
   ]
  },
  {
   "cell_type": "code",
   "execution_count": 9,
   "id": "bb0f7256",
   "metadata": {},
   "outputs": [
    {
     "data": {
      "text/plain": [
       "0        blerta.hoxha@gmail.com\n",
       "1         agon.salihu@gmail.com\n",
       "2    bernard.kastrati@gmail.com\n",
       "3       arbnor.hetemi@gmail.com\n",
       "Name: email, dtype: object"
      ]
     },
     "execution_count": 9,
     "metadata": {},
     "output_type": "execute_result"
    }
   ],
   "source": [
    "df['email']"
   ]
  },
  {
   "cell_type": "code",
   "execution_count": 10,
   "id": "ec4b7daf",
   "metadata": {},
   "outputs": [
    {
     "data": {
      "text/html": [
       "<div>\n",
       "<style scoped>\n",
       "    .dataframe tbody tr th:only-of-type {\n",
       "        vertical-align: middle;\n",
       "    }\n",
       "\n",
       "    .dataframe tbody tr th {\n",
       "        vertical-align: top;\n",
       "    }\n",
       "\n",
       "    .dataframe thead th {\n",
       "        text-align: right;\n",
       "    }\n",
       "</style>\n",
       "<table border=\"1\" class=\"dataframe\">\n",
       "  <thead>\n",
       "    <tr style=\"text-align: right;\">\n",
       "      <th></th>\n",
       "      <th>emri</th>\n",
       "      <th>mbiemri</th>\n",
       "    </tr>\n",
       "    <tr>\n",
       "      <th>email</th>\n",
       "      <th></th>\n",
       "      <th></th>\n",
       "    </tr>\n",
       "  </thead>\n",
       "  <tbody>\n",
       "    <tr>\n",
       "      <th>blerta.hoxha@gmail.com</th>\n",
       "      <td>Blerta</td>\n",
       "      <td>Hoxha</td>\n",
       "    </tr>\n",
       "    <tr>\n",
       "      <th>agon.salihu@gmail.com</th>\n",
       "      <td>Agon</td>\n",
       "      <td>Salihu</td>\n",
       "    </tr>\n",
       "    <tr>\n",
       "      <th>bernard.kastrati@gmail.com</th>\n",
       "      <td>Bernard</td>\n",
       "      <td>Kastrati</td>\n",
       "    </tr>\n",
       "    <tr>\n",
       "      <th>arbnor.hetemi@gmail.com</th>\n",
       "      <td>Arbnor</td>\n",
       "      <td>Hetemi</td>\n",
       "    </tr>\n",
       "  </tbody>\n",
       "</table>\n",
       "</div>"
      ],
      "text/plain": [
       "                               emri   mbiemri\n",
       "email                                        \n",
       "blerta.hoxha@gmail.com       Blerta     Hoxha\n",
       "agon.salihu@gmail.com          Agon    Salihu\n",
       "bernard.kastrati@gmail.com  Bernard  Kastrati\n",
       "arbnor.hetemi@gmail.com      Arbnor    Hetemi"
      ]
     },
     "execution_count": 10,
     "metadata": {},
     "output_type": "execute_result"
    }
   ],
   "source": [
    "df.set_index('email')"
   ]
  },
  {
   "cell_type": "code",
   "execution_count": 11,
   "id": "402dfa69",
   "metadata": {},
   "outputs": [
    {
     "data": {
      "text/html": [
       "<div>\n",
       "<style scoped>\n",
       "    .dataframe tbody tr th:only-of-type {\n",
       "        vertical-align: middle;\n",
       "    }\n",
       "\n",
       "    .dataframe tbody tr th {\n",
       "        vertical-align: top;\n",
       "    }\n",
       "\n",
       "    .dataframe thead th {\n",
       "        text-align: right;\n",
       "    }\n",
       "</style>\n",
       "<table border=\"1\" class=\"dataframe\">\n",
       "  <thead>\n",
       "    <tr style=\"text-align: right;\">\n",
       "      <th></th>\n",
       "      <th>emri</th>\n",
       "      <th>mbiemri</th>\n",
       "      <th>email</th>\n",
       "    </tr>\n",
       "  </thead>\n",
       "  <tbody>\n",
       "    <tr>\n",
       "      <th>0</th>\n",
       "      <td>Blerta</td>\n",
       "      <td>Hoxha</td>\n",
       "      <td>blerta.hoxha@gmail.com</td>\n",
       "    </tr>\n",
       "    <tr>\n",
       "      <th>1</th>\n",
       "      <td>Agon</td>\n",
       "      <td>Salihu</td>\n",
       "      <td>agon.salihu@gmail.com</td>\n",
       "    </tr>\n",
       "    <tr>\n",
       "      <th>2</th>\n",
       "      <td>Bernard</td>\n",
       "      <td>Kastrati</td>\n",
       "      <td>bernard.kastrati@gmail.com</td>\n",
       "    </tr>\n",
       "    <tr>\n",
       "      <th>3</th>\n",
       "      <td>Arbnor</td>\n",
       "      <td>Hetemi</td>\n",
       "      <td>arbnor.hetemi@gmail.com</td>\n",
       "    </tr>\n",
       "  </tbody>\n",
       "</table>\n",
       "</div>"
      ],
      "text/plain": [
       "      emri   mbiemri                       email\n",
       "0   Blerta     Hoxha      blerta.hoxha@gmail.com\n",
       "1     Agon    Salihu       agon.salihu@gmail.com\n",
       "2  Bernard  Kastrati  bernard.kastrati@gmail.com\n",
       "3   Arbnor    Hetemi     arbnor.hetemi@gmail.com"
      ]
     },
     "execution_count": 11,
     "metadata": {},
     "output_type": "execute_result"
    }
   ],
   "source": [
    "df"
   ]
  },
  {
   "cell_type": "code",
   "execution_count": 12,
   "id": "022c434d",
   "metadata": {},
   "outputs": [],
   "source": [
    "df.set_index('email', inplace=True)"
   ]
  },
  {
   "cell_type": "code",
   "execution_count": 13,
   "id": "22a0d67a",
   "metadata": {},
   "outputs": [
    {
     "data": {
      "text/html": [
       "<div>\n",
       "<style scoped>\n",
       "    .dataframe tbody tr th:only-of-type {\n",
       "        vertical-align: middle;\n",
       "    }\n",
       "\n",
       "    .dataframe tbody tr th {\n",
       "        vertical-align: top;\n",
       "    }\n",
       "\n",
       "    .dataframe thead th {\n",
       "        text-align: right;\n",
       "    }\n",
       "</style>\n",
       "<table border=\"1\" class=\"dataframe\">\n",
       "  <thead>\n",
       "    <tr style=\"text-align: right;\">\n",
       "      <th></th>\n",
       "      <th>emri</th>\n",
       "      <th>mbiemri</th>\n",
       "    </tr>\n",
       "    <tr>\n",
       "      <th>email</th>\n",
       "      <th></th>\n",
       "      <th></th>\n",
       "    </tr>\n",
       "  </thead>\n",
       "  <tbody>\n",
       "    <tr>\n",
       "      <th>blerta.hoxha@gmail.com</th>\n",
       "      <td>Blerta</td>\n",
       "      <td>Hoxha</td>\n",
       "    </tr>\n",
       "    <tr>\n",
       "      <th>agon.salihu@gmail.com</th>\n",
       "      <td>Agon</td>\n",
       "      <td>Salihu</td>\n",
       "    </tr>\n",
       "    <tr>\n",
       "      <th>bernard.kastrati@gmail.com</th>\n",
       "      <td>Bernard</td>\n",
       "      <td>Kastrati</td>\n",
       "    </tr>\n",
       "    <tr>\n",
       "      <th>arbnor.hetemi@gmail.com</th>\n",
       "      <td>Arbnor</td>\n",
       "      <td>Hetemi</td>\n",
       "    </tr>\n",
       "  </tbody>\n",
       "</table>\n",
       "</div>"
      ],
      "text/plain": [
       "                               emri   mbiemri\n",
       "email                                        \n",
       "blerta.hoxha@gmail.com       Blerta     Hoxha\n",
       "agon.salihu@gmail.com          Agon    Salihu\n",
       "bernard.kastrati@gmail.com  Bernard  Kastrati\n",
       "arbnor.hetemi@gmail.com      Arbnor    Hetemi"
      ]
     },
     "execution_count": 13,
     "metadata": {},
     "output_type": "execute_result"
    }
   ],
   "source": [
    "df"
   ]
  },
  {
   "cell_type": "code",
   "execution_count": 14,
   "id": "7ce179ce",
   "metadata": {},
   "outputs": [
    {
     "data": {
      "text/plain": [
       "Index(['blerta.hoxha@gmail.com', 'agon.salihu@gmail.com',\n",
       "       'bernard.kastrati@gmail.com', 'arbnor.hetemi@gmail.com'],\n",
       "      dtype='object', name='email')"
      ]
     },
     "execution_count": 14,
     "metadata": {},
     "output_type": "execute_result"
    }
   ],
   "source": [
    "df.index"
   ]
  },
  {
   "cell_type": "code",
   "execution_count": 15,
   "id": "146bec23",
   "metadata": {},
   "outputs": [
    {
     "data": {
      "text/plain": [
       "emri         Agon\n",
       "mbiemri    Salihu\n",
       "Name: agon.salihu@gmail.com, dtype: object"
      ]
     },
     "execution_count": 15,
     "metadata": {},
     "output_type": "execute_result"
    }
   ],
   "source": [
    "df.loc['agon.salihu@gmail.com']"
   ]
  },
  {
   "cell_type": "code",
   "execution_count": 16,
   "id": "003818ab",
   "metadata": {},
   "outputs": [
    {
     "data": {
      "text/plain": [
       "'Salihu'"
      ]
     },
     "execution_count": 16,
     "metadata": {},
     "output_type": "execute_result"
    }
   ],
   "source": [
    "df.loc['agon.salihu@gmail.com','mbiemri']"
   ]
  },
  {
   "cell_type": "code",
   "execution_count": 17,
   "id": "c3e1d242",
   "metadata": {},
   "outputs": [
    {
     "data": {
      "text/plain": [
       "emri       Blerta\n",
       "mbiemri     Hoxha\n",
       "Name: blerta.hoxha@gmail.com, dtype: object"
      ]
     },
     "execution_count": 17,
     "metadata": {},
     "output_type": "execute_result"
    }
   ],
   "source": [
    "df.iloc[0]"
   ]
  },
  {
   "cell_type": "code",
   "execution_count": 18,
   "id": "8df7552b",
   "metadata": {},
   "outputs": [],
   "source": [
    "df.reset_index(inplace=True)"
   ]
  },
  {
   "cell_type": "code",
   "execution_count": 19,
   "id": "a2bc1615",
   "metadata": {},
   "outputs": [
    {
     "data": {
      "text/html": [
       "<div>\n",
       "<style scoped>\n",
       "    .dataframe tbody tr th:only-of-type {\n",
       "        vertical-align: middle;\n",
       "    }\n",
       "\n",
       "    .dataframe tbody tr th {\n",
       "        vertical-align: top;\n",
       "    }\n",
       "\n",
       "    .dataframe thead th {\n",
       "        text-align: right;\n",
       "    }\n",
       "</style>\n",
       "<table border=\"1\" class=\"dataframe\">\n",
       "  <thead>\n",
       "    <tr style=\"text-align: right;\">\n",
       "      <th></th>\n",
       "      <th>email</th>\n",
       "      <th>emri</th>\n",
       "      <th>mbiemri</th>\n",
       "    </tr>\n",
       "  </thead>\n",
       "  <tbody>\n",
       "    <tr>\n",
       "      <th>0</th>\n",
       "      <td>blerta.hoxha@gmail.com</td>\n",
       "      <td>Blerta</td>\n",
       "      <td>Hoxha</td>\n",
       "    </tr>\n",
       "    <tr>\n",
       "      <th>1</th>\n",
       "      <td>agon.salihu@gmail.com</td>\n",
       "      <td>Agon</td>\n",
       "      <td>Salihu</td>\n",
       "    </tr>\n",
       "    <tr>\n",
       "      <th>2</th>\n",
       "      <td>bernard.kastrati@gmail.com</td>\n",
       "      <td>Bernard</td>\n",
       "      <td>Kastrati</td>\n",
       "    </tr>\n",
       "    <tr>\n",
       "      <th>3</th>\n",
       "      <td>arbnor.hetemi@gmail.com</td>\n",
       "      <td>Arbnor</td>\n",
       "      <td>Hetemi</td>\n",
       "    </tr>\n",
       "  </tbody>\n",
       "</table>\n",
       "</div>"
      ],
      "text/plain": [
       "                        email     emri   mbiemri\n",
       "0      blerta.hoxha@gmail.com   Blerta     Hoxha\n",
       "1       agon.salihu@gmail.com     Agon    Salihu\n",
       "2  bernard.kastrati@gmail.com  Bernard  Kastrati\n",
       "3     arbnor.hetemi@gmail.com   Arbnor    Hetemi"
      ]
     },
     "execution_count": 19,
     "metadata": {},
     "output_type": "execute_result"
    }
   ],
   "source": [
    "df"
   ]
  },
  {
   "cell_type": "code",
   "execution_count": 20,
   "id": "968ef13d",
   "metadata": {},
   "outputs": [
    {
     "data": {
      "text/plain": [
       "0     True\n",
       "1    False\n",
       "2    False\n",
       "3    False\n",
       "Name: mbiemri, dtype: bool"
      ]
     },
     "execution_count": 20,
     "metadata": {},
     "output_type": "execute_result"
    }
   ],
   "source": [
    "df['mbiemri'] == 'Hoxha'"
   ]
  },
  {
   "cell_type": "code",
   "execution_count": 21,
   "id": "00007c7d",
   "metadata": {},
   "outputs": [],
   "source": [
    "filt = (df['mbiemri'] == 'Hoxha')"
   ]
  },
  {
   "cell_type": "code",
   "execution_count": 22,
   "id": "0f49b5b0",
   "metadata": {},
   "outputs": [
    {
     "data": {
      "text/plain": [
       "0     True\n",
       "1    False\n",
       "2    False\n",
       "3    False\n",
       "Name: mbiemri, dtype: bool"
      ]
     },
     "execution_count": 22,
     "metadata": {},
     "output_type": "execute_result"
    }
   ],
   "source": [
    "filt"
   ]
  },
  {
   "cell_type": "code",
   "execution_count": 23,
   "id": "d06f9e46",
   "metadata": {},
   "outputs": [
    {
     "data": {
      "text/html": [
       "<div>\n",
       "<style scoped>\n",
       "    .dataframe tbody tr th:only-of-type {\n",
       "        vertical-align: middle;\n",
       "    }\n",
       "\n",
       "    .dataframe tbody tr th {\n",
       "        vertical-align: top;\n",
       "    }\n",
       "\n",
       "    .dataframe thead th {\n",
       "        text-align: right;\n",
       "    }\n",
       "</style>\n",
       "<table border=\"1\" class=\"dataframe\">\n",
       "  <thead>\n",
       "    <tr style=\"text-align: right;\">\n",
       "      <th></th>\n",
       "      <th>email</th>\n",
       "      <th>emri</th>\n",
       "      <th>mbiemri</th>\n",
       "    </tr>\n",
       "  </thead>\n",
       "  <tbody>\n",
       "    <tr>\n",
       "      <th>0</th>\n",
       "      <td>blerta.hoxha@gmail.com</td>\n",
       "      <td>Blerta</td>\n",
       "      <td>Hoxha</td>\n",
       "    </tr>\n",
       "  </tbody>\n",
       "</table>\n",
       "</div>"
      ],
      "text/plain": [
       "                    email    emri mbiemri\n",
       "0  blerta.hoxha@gmail.com  Blerta   Hoxha"
      ]
     },
     "execution_count": 23,
     "metadata": {},
     "output_type": "execute_result"
    }
   ],
   "source": [
    "df[filt]"
   ]
  },
  {
   "cell_type": "code",
   "execution_count": 24,
   "id": "dfaea21d",
   "metadata": {},
   "outputs": [
    {
     "data": {
      "text/html": [
       "<div>\n",
       "<style scoped>\n",
       "    .dataframe tbody tr th:only-of-type {\n",
       "        vertical-align: middle;\n",
       "    }\n",
       "\n",
       "    .dataframe tbody tr th {\n",
       "        vertical-align: top;\n",
       "    }\n",
       "\n",
       "    .dataframe thead th {\n",
       "        text-align: right;\n",
       "    }\n",
       "</style>\n",
       "<table border=\"1\" class=\"dataframe\">\n",
       "  <thead>\n",
       "    <tr style=\"text-align: right;\">\n",
       "      <th></th>\n",
       "      <th>email</th>\n",
       "      <th>emri</th>\n",
       "      <th>mbiemri</th>\n",
       "    </tr>\n",
       "  </thead>\n",
       "  <tbody>\n",
       "    <tr>\n",
       "      <th>0</th>\n",
       "      <td>blerta.hoxha@gmail.com</td>\n",
       "      <td>Blerta</td>\n",
       "      <td>Hoxha</td>\n",
       "    </tr>\n",
       "  </tbody>\n",
       "</table>\n",
       "</div>"
      ],
      "text/plain": [
       "                    email    emri mbiemri\n",
       "0  blerta.hoxha@gmail.com  Blerta   Hoxha"
      ]
     },
     "execution_count": 24,
     "metadata": {},
     "output_type": "execute_result"
    }
   ],
   "source": [
    "df.loc[filt]"
   ]
  },
  {
   "cell_type": "code",
   "execution_count": 26,
   "id": "8f394983",
   "metadata": {},
   "outputs": [
    {
     "data": {
      "text/plain": [
       "0    blerta.hoxha@gmail.com\n",
       "Name: email, dtype: object"
      ]
     },
     "execution_count": 26,
     "metadata": {},
     "output_type": "execute_result"
    }
   ],
   "source": [
    "df.loc[filt, 'email']"
   ]
  },
  {
   "cell_type": "code",
   "execution_count": 32,
   "id": "b4f34fa3",
   "metadata": {},
   "outputs": [],
   "source": [
    "filt = (df['mbiemri'] == 'Hoxha') | (df['mbiemri'] == 'Salihu')"
   ]
  },
  {
   "cell_type": "code",
   "execution_count": 33,
   "id": "7d73350c",
   "metadata": {},
   "outputs": [
    {
     "data": {
      "text/plain": [
       "0    blerta.hoxha@gmail.com\n",
       "1     agon.salihu@gmail.com\n",
       "Name: email, dtype: object"
      ]
     },
     "execution_count": 33,
     "metadata": {},
     "output_type": "execute_result"
    }
   ],
   "source": [
    "df.loc[filt, 'email']"
   ]
  },
  {
   "cell_type": "code",
   "execution_count": 34,
   "id": "d7f571eb",
   "metadata": {},
   "outputs": [
    {
     "data": {
      "text/plain": [
       "2    bernard.kastrati@gmail.com\n",
       "3       arbnor.hetemi@gmail.com\n",
       "Name: email, dtype: object"
      ]
     },
     "execution_count": 34,
     "metadata": {},
     "output_type": "execute_result"
    }
   ],
   "source": [
    "df.loc[~filt, 'email']"
   ]
  },
  {
   "cell_type": "code",
   "execution_count": null,
   "id": "b225ddf5",
   "metadata": {},
   "outputs": [],
   "source": []
  }
 ],
 "metadata": {
  "kernelspec": {
   "display_name": "Python 3 (ipykernel)",
   "language": "python",
   "name": "python3"
  },
  "language_info": {
   "codemirror_mode": {
    "name": "ipython",
    "version": 3
   },
   "file_extension": ".py",
   "mimetype": "text/x-python",
   "name": "python",
   "nbconvert_exporter": "python",
   "pygments_lexer": "ipython3",
   "version": "3.9.11"
  }
 },
 "nbformat": 4,
 "nbformat_minor": 5
}
