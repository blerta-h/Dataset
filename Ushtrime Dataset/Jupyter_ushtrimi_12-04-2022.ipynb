{
 "cells": [
  {
   "cell_type": "code",
   "execution_count": 1,
   "id": "c9c1ddbd",
   "metadata": {},
   "outputs": [],
   "source": [
    "personi = {\n",
    "    \"emri\":\"Blerta\",\n",
    "    \"mbiemri\":\"Hoxha\",\n",
    "    \"email\":\"blerta.hoxha@gmail.com\"\n",
    "}"
   ]
  },
  {
   "cell_type": "code",
   "execution_count": 2,
   "id": "7ddf2f3e",
   "metadata": {},
   "outputs": [],
   "source": [
    "personat = {\n",
    "    \"emri\": [\"Blerta\"],\n",
    "    \"mbiemri\": [\"Hoxha\"],\n",
    "    \"email\": [\"blerta.hoxha@gmail.com\"]\n",
    "}"
   ]
  },
  {
   "cell_type": "code",
   "execution_count": 162,
   "id": "fffd78e4",
   "metadata": {},
   "outputs": [],
   "source": [
    "personat = {\n",
    "    \"emri\": [\"Blerta\", \"Agon\", \"Bernard\", \"Arbnor\", \"Blerta\",\"Adnan\",\"Adnan\"],\n",
    "    \"mbiemri\": [\"Hoxha\", \"Salihu\", \"Kastrati\", \"Hetemi\", \"Ahmeti\",\"Lupqi\",\"Mehmeti\"],\n",
    "    \"email\": [\"blerta.hoxha@gmail.com\", \"agon.salihu@gmail.com\", \"bernard.kastrati@gmail.com\", \"arbnor.hetemi@gmail.com\",\"blerta.ahmeti@gmail.com\",\"adnan.lupqi@gmail.com\",\"adnan.mehmeti@gmail.com\"]\n",
    "}"
   ]
  },
  {
   "cell_type": "code",
   "execution_count": 155,
   "id": "a18cb1b6",
   "metadata": {},
   "outputs": [
    {
     "data": {
      "text/plain": [
       "['blerta.hoxha@gmail.com',\n",
       " 'agon.salihu@gmail.com',\n",
       " 'bernard.kastrati@gmail.com',\n",
       " 'arbnor.hetemi@gmail.com',\n",
       " 'blerta.ahmeti@gmail.com',\n",
       " ' ',\n",
       " 'adnan.mehmeti@gmail.com']"
      ]
     },
     "execution_count": 155,
     "metadata": {},
     "output_type": "execute_result"
    }
   ],
   "source": [
    "personat['email']"
   ]
  },
  {
   "cell_type": "code",
   "execution_count": 156,
   "id": "834ca550",
   "metadata": {},
   "outputs": [],
   "source": [
    "import pandas as pd"
   ]
  },
  {
   "cell_type": "code",
   "execution_count": 163,
   "id": "709a18a7",
   "metadata": {},
   "outputs": [],
   "source": [
    "df=pd.DataFrame(personat) "
   ]
  },
  {
   "cell_type": "code",
   "execution_count": 164,
   "id": "2a696668",
   "metadata": {},
   "outputs": [
    {
     "data": {
      "text/html": [
       "<div>\n",
       "<style scoped>\n",
       "    .dataframe tbody tr th:only-of-type {\n",
       "        vertical-align: middle;\n",
       "    }\n",
       "\n",
       "    .dataframe tbody tr th {\n",
       "        vertical-align: top;\n",
       "    }\n",
       "\n",
       "    .dataframe thead th {\n",
       "        text-align: right;\n",
       "    }\n",
       "</style>\n",
       "<table border=\"1\" class=\"dataframe\">\n",
       "  <thead>\n",
       "    <tr style=\"text-align: right;\">\n",
       "      <th></th>\n",
       "      <th>emri</th>\n",
       "      <th>mbiemri</th>\n",
       "      <th>email</th>\n",
       "    </tr>\n",
       "  </thead>\n",
       "  <tbody>\n",
       "    <tr>\n",
       "      <th>0</th>\n",
       "      <td>Blerta</td>\n",
       "      <td>Hoxha</td>\n",
       "      <td>blerta.hoxha@gmail.com</td>\n",
       "    </tr>\n",
       "    <tr>\n",
       "      <th>1</th>\n",
       "      <td>Agon</td>\n",
       "      <td>Salihu</td>\n",
       "      <td>agon.salihu@gmail.com</td>\n",
       "    </tr>\n",
       "    <tr>\n",
       "      <th>2</th>\n",
       "      <td>Bernard</td>\n",
       "      <td>Kastrati</td>\n",
       "      <td>bernard.kastrati@gmail.com</td>\n",
       "    </tr>\n",
       "    <tr>\n",
       "      <th>3</th>\n",
       "      <td>Arbnor</td>\n",
       "      <td>Hetemi</td>\n",
       "      <td>arbnor.hetemi@gmail.com</td>\n",
       "    </tr>\n",
       "    <tr>\n",
       "      <th>4</th>\n",
       "      <td>Blerta</td>\n",
       "      <td>Ahmeti</td>\n",
       "      <td>blerta.ahmeti@gmail.com</td>\n",
       "    </tr>\n",
       "    <tr>\n",
       "      <th>5</th>\n",
       "      <td>Adnan</td>\n",
       "      <td>Lupqi</td>\n",
       "      <td>adnan.lupqi@gmail.com</td>\n",
       "    </tr>\n",
       "    <tr>\n",
       "      <th>6</th>\n",
       "      <td>Adnan</td>\n",
       "      <td>Mehmeti</td>\n",
       "      <td>adnan.mehmeti@gmail.com</td>\n",
       "    </tr>\n",
       "  </tbody>\n",
       "</table>\n",
       "</div>"
      ],
      "text/plain": [
       "      emri   mbiemri                       email\n",
       "0   Blerta     Hoxha      blerta.hoxha@gmail.com\n",
       "1     Agon    Salihu       agon.salihu@gmail.com\n",
       "2  Bernard  Kastrati  bernard.kastrati@gmail.com\n",
       "3   Arbnor    Hetemi     arbnor.hetemi@gmail.com\n",
       "4   Blerta    Ahmeti     blerta.ahmeti@gmail.com\n",
       "5    Adnan     Lupqi       adnan.lupqi@gmail.com\n",
       "6    Adnan   Mehmeti     adnan.mehmeti@gmail.com"
      ]
     },
     "execution_count": 164,
     "metadata": {},
     "output_type": "execute_result"
    }
   ],
   "source": [
    "df"
   ]
  },
  {
   "cell_type": "code",
   "execution_count": 36,
   "id": "f8532213",
   "metadata": {},
   "outputs": [
    {
     "data": {
      "text/plain": [
       "0        blerta.hoxha@gmail.com\n",
       "1         agon.salihu@gmail.com\n",
       "2    bernard.kastrati@gmail.com\n",
       "3       arbnor.hetemi@gmail.com\n",
       "Name: email, dtype: object"
      ]
     },
     "execution_count": 36,
     "metadata": {},
     "output_type": "execute_result"
    }
   ],
   "source": [
    "df['email']"
   ]
  },
  {
   "cell_type": "code",
   "execution_count": 37,
   "id": "ebbda932",
   "metadata": {},
   "outputs": [
    {
     "data": {
      "text/html": [
       "<div>\n",
       "<style scoped>\n",
       "    .dataframe tbody tr th:only-of-type {\n",
       "        vertical-align: middle;\n",
       "    }\n",
       "\n",
       "    .dataframe tbody tr th {\n",
       "        vertical-align: top;\n",
       "    }\n",
       "\n",
       "    .dataframe thead th {\n",
       "        text-align: right;\n",
       "    }\n",
       "</style>\n",
       "<table border=\"1\" class=\"dataframe\">\n",
       "  <thead>\n",
       "    <tr style=\"text-align: right;\">\n",
       "      <th></th>\n",
       "      <th>emri</th>\n",
       "      <th>mbiemri</th>\n",
       "    </tr>\n",
       "    <tr>\n",
       "      <th>email</th>\n",
       "      <th></th>\n",
       "      <th></th>\n",
       "    </tr>\n",
       "  </thead>\n",
       "  <tbody>\n",
       "    <tr>\n",
       "      <th>blerta.hoxha@gmail.com</th>\n",
       "      <td>Blerta</td>\n",
       "      <td>Hoxha</td>\n",
       "    </tr>\n",
       "    <tr>\n",
       "      <th>agon.salihu@gmail.com</th>\n",
       "      <td>Agon</td>\n",
       "      <td>Salihu</td>\n",
       "    </tr>\n",
       "    <tr>\n",
       "      <th>bernard.kastrati@gmail.com</th>\n",
       "      <td>Bernard</td>\n",
       "      <td>Kastrati</td>\n",
       "    </tr>\n",
       "    <tr>\n",
       "      <th>arbnor.hetemi@gmail.com</th>\n",
       "      <td>Arbnor</td>\n",
       "      <td>Hetemi</td>\n",
       "    </tr>\n",
       "  </tbody>\n",
       "</table>\n",
       "</div>"
      ],
      "text/plain": [
       "                               emri   mbiemri\n",
       "email                                        \n",
       "blerta.hoxha@gmail.com       Blerta     Hoxha\n",
       "agon.salihu@gmail.com          Agon    Salihu\n",
       "bernard.kastrati@gmail.com  Bernard  Kastrati\n",
       "arbnor.hetemi@gmail.com      Arbnor    Hetemi"
      ]
     },
     "execution_count": 37,
     "metadata": {},
     "output_type": "execute_result"
    }
   ],
   "source": [
    "df.set_index('email')"
   ]
  },
  {
   "cell_type": "code",
   "execution_count": 38,
   "id": "8490846b",
   "metadata": {},
   "outputs": [
    {
     "data": {
      "text/html": [
       "<div>\n",
       "<style scoped>\n",
       "    .dataframe tbody tr th:only-of-type {\n",
       "        vertical-align: middle;\n",
       "    }\n",
       "\n",
       "    .dataframe tbody tr th {\n",
       "        vertical-align: top;\n",
       "    }\n",
       "\n",
       "    .dataframe thead th {\n",
       "        text-align: right;\n",
       "    }\n",
       "</style>\n",
       "<table border=\"1\" class=\"dataframe\">\n",
       "  <thead>\n",
       "    <tr style=\"text-align: right;\">\n",
       "      <th></th>\n",
       "      <th>mbiemri</th>\n",
       "      <th>email</th>\n",
       "    </tr>\n",
       "    <tr>\n",
       "      <th>emri</th>\n",
       "      <th></th>\n",
       "      <th></th>\n",
       "    </tr>\n",
       "  </thead>\n",
       "  <tbody>\n",
       "    <tr>\n",
       "      <th>Blerta</th>\n",
       "      <td>Hoxha</td>\n",
       "      <td>blerta.hoxha@gmail.com</td>\n",
       "    </tr>\n",
       "    <tr>\n",
       "      <th>Agon</th>\n",
       "      <td>Salihu</td>\n",
       "      <td>agon.salihu@gmail.com</td>\n",
       "    </tr>\n",
       "    <tr>\n",
       "      <th>Bernard</th>\n",
       "      <td>Kastrati</td>\n",
       "      <td>bernard.kastrati@gmail.com</td>\n",
       "    </tr>\n",
       "    <tr>\n",
       "      <th>Arbnor</th>\n",
       "      <td>Hetemi</td>\n",
       "      <td>arbnor.hetemi@gmail.com</td>\n",
       "    </tr>\n",
       "  </tbody>\n",
       "</table>\n",
       "</div>"
      ],
      "text/plain": [
       "          mbiemri                       email\n",
       "emri                                         \n",
       "Blerta      Hoxha      blerta.hoxha@gmail.com\n",
       "Agon       Salihu       agon.salihu@gmail.com\n",
       "Bernard  Kastrati  bernard.kastrati@gmail.com\n",
       "Arbnor     Hetemi     arbnor.hetemi@gmail.com"
      ]
     },
     "execution_count": 38,
     "metadata": {},
     "output_type": "execute_result"
    }
   ],
   "source": [
    "df.set_index('emri')"
   ]
  },
  {
   "cell_type": "code",
   "execution_count": 39,
   "id": "d9f13652",
   "metadata": {},
   "outputs": [
    {
     "data": {
      "text/html": [
       "<div>\n",
       "<style scoped>\n",
       "    .dataframe tbody tr th:only-of-type {\n",
       "        vertical-align: middle;\n",
       "    }\n",
       "\n",
       "    .dataframe tbody tr th {\n",
       "        vertical-align: top;\n",
       "    }\n",
       "\n",
       "    .dataframe thead th {\n",
       "        text-align: right;\n",
       "    }\n",
       "</style>\n",
       "<table border=\"1\" class=\"dataframe\">\n",
       "  <thead>\n",
       "    <tr style=\"text-align: right;\">\n",
       "      <th></th>\n",
       "      <th>emri</th>\n",
       "      <th>mbiemri</th>\n",
       "      <th>email</th>\n",
       "    </tr>\n",
       "  </thead>\n",
       "  <tbody>\n",
       "    <tr>\n",
       "      <th>0</th>\n",
       "      <td>Blerta</td>\n",
       "      <td>Hoxha</td>\n",
       "      <td>blerta.hoxha@gmail.com</td>\n",
       "    </tr>\n",
       "    <tr>\n",
       "      <th>1</th>\n",
       "      <td>Agon</td>\n",
       "      <td>Salihu</td>\n",
       "      <td>agon.salihu@gmail.com</td>\n",
       "    </tr>\n",
       "    <tr>\n",
       "      <th>2</th>\n",
       "      <td>Bernard</td>\n",
       "      <td>Kastrati</td>\n",
       "      <td>bernard.kastrati@gmail.com</td>\n",
       "    </tr>\n",
       "    <tr>\n",
       "      <th>3</th>\n",
       "      <td>Arbnor</td>\n",
       "      <td>Hetemi</td>\n",
       "      <td>arbnor.hetemi@gmail.com</td>\n",
       "    </tr>\n",
       "  </tbody>\n",
       "</table>\n",
       "</div>"
      ],
      "text/plain": [
       "      emri   mbiemri                       email\n",
       "0   Blerta     Hoxha      blerta.hoxha@gmail.com\n",
       "1     Agon    Salihu       agon.salihu@gmail.com\n",
       "2  Bernard  Kastrati  bernard.kastrati@gmail.com\n",
       "3   Arbnor    Hetemi     arbnor.hetemi@gmail.com"
      ]
     },
     "execution_count": 39,
     "metadata": {},
     "output_type": "execute_result"
    }
   ],
   "source": [
    "df"
   ]
  },
  {
   "cell_type": "code",
   "execution_count": 40,
   "id": "2b15679a",
   "metadata": {},
   "outputs": [],
   "source": [
    "df.set_index('email', inplace=True)"
   ]
  },
  {
   "cell_type": "code",
   "execution_count": 41,
   "id": "647e8fb9",
   "metadata": {},
   "outputs": [
    {
     "data": {
      "text/html": [
       "<div>\n",
       "<style scoped>\n",
       "    .dataframe tbody tr th:only-of-type {\n",
       "        vertical-align: middle;\n",
       "    }\n",
       "\n",
       "    .dataframe tbody tr th {\n",
       "        vertical-align: top;\n",
       "    }\n",
       "\n",
       "    .dataframe thead th {\n",
       "        text-align: right;\n",
       "    }\n",
       "</style>\n",
       "<table border=\"1\" class=\"dataframe\">\n",
       "  <thead>\n",
       "    <tr style=\"text-align: right;\">\n",
       "      <th></th>\n",
       "      <th>emri</th>\n",
       "      <th>mbiemri</th>\n",
       "    </tr>\n",
       "    <tr>\n",
       "      <th>email</th>\n",
       "      <th></th>\n",
       "      <th></th>\n",
       "    </tr>\n",
       "  </thead>\n",
       "  <tbody>\n",
       "    <tr>\n",
       "      <th>blerta.hoxha@gmail.com</th>\n",
       "      <td>Blerta</td>\n",
       "      <td>Hoxha</td>\n",
       "    </tr>\n",
       "    <tr>\n",
       "      <th>agon.salihu@gmail.com</th>\n",
       "      <td>Agon</td>\n",
       "      <td>Salihu</td>\n",
       "    </tr>\n",
       "    <tr>\n",
       "      <th>bernard.kastrati@gmail.com</th>\n",
       "      <td>Bernard</td>\n",
       "      <td>Kastrati</td>\n",
       "    </tr>\n",
       "    <tr>\n",
       "      <th>arbnor.hetemi@gmail.com</th>\n",
       "      <td>Arbnor</td>\n",
       "      <td>Hetemi</td>\n",
       "    </tr>\n",
       "  </tbody>\n",
       "</table>\n",
       "</div>"
      ],
      "text/plain": [
       "                               emri   mbiemri\n",
       "email                                        \n",
       "blerta.hoxha@gmail.com       Blerta     Hoxha\n",
       "agon.salihu@gmail.com          Agon    Salihu\n",
       "bernard.kastrati@gmail.com  Bernard  Kastrati\n",
       "arbnor.hetemi@gmail.com      Arbnor    Hetemi"
      ]
     },
     "execution_count": 41,
     "metadata": {},
     "output_type": "execute_result"
    }
   ],
   "source": [
    "df\n"
   ]
  },
  {
   "cell_type": "code",
   "execution_count": 42,
   "id": "1a755e3a",
   "metadata": {},
   "outputs": [
    {
     "data": {
      "text/plain": [
       "Index(['blerta.hoxha@gmail.com', 'agon.salihu@gmail.com',\n",
       "       'bernard.kastrati@gmail.com', 'arbnor.hetemi@gmail.com'],\n",
       "      dtype='object', name='email')"
      ]
     },
     "execution_count": 42,
     "metadata": {},
     "output_type": "execute_result"
    }
   ],
   "source": [
    "df.index"
   ]
  },
  {
   "cell_type": "code",
   "execution_count": 43,
   "id": "cbad02f8",
   "metadata": {},
   "outputs": [
    {
     "data": {
      "text/plain": [
       "emri        Bernard\n",
       "mbiemri    Kastrati\n",
       "Name: bernard.kastrati@gmail.com, dtype: object"
      ]
     },
     "execution_count": 43,
     "metadata": {},
     "output_type": "execute_result"
    }
   ],
   "source": [
    "df.loc['bernard.kastrati@gmail.com']"
   ]
  },
  {
   "cell_type": "code",
   "execution_count": 44,
   "id": "893ff71c",
   "metadata": {},
   "outputs": [
    {
     "data": {
      "text/plain": [
       "'Kastrati'"
      ]
     },
     "execution_count": 44,
     "metadata": {},
     "output_type": "execute_result"
    }
   ],
   "source": [
    "df.loc['bernard.kastrati@gmail.com','mbiemri']"
   ]
  },
  {
   "cell_type": "code",
   "execution_count": 45,
   "id": "016ca9da",
   "metadata": {},
   "outputs": [
    {
     "data": {
      "text/plain": [
       "'Bernard'"
      ]
     },
     "execution_count": 45,
     "metadata": {},
     "output_type": "execute_result"
    }
   ],
   "source": [
    "df.loc['bernard.kastrati@gmail.com','emri']"
   ]
  },
  {
   "cell_type": "code",
   "execution_count": 46,
   "id": "521a5307",
   "metadata": {},
   "outputs": [
    {
     "data": {
      "text/plain": [
       "emri       Blerta\n",
       "mbiemri     Hoxha\n",
       "Name: blerta.hoxha@gmail.com, dtype: object"
      ]
     },
     "execution_count": 46,
     "metadata": {},
     "output_type": "execute_result"
    }
   ],
   "source": [
    "df.iloc[0]"
   ]
  },
  {
   "cell_type": "code",
   "execution_count": 47,
   "id": "14ef43f0",
   "metadata": {},
   "outputs": [
    {
     "data": {
      "text/plain": [
       "emri       Arbnor\n",
       "mbiemri    Hetemi\n",
       "Name: arbnor.hetemi@gmail.com, dtype: object"
      ]
     },
     "execution_count": 47,
     "metadata": {},
     "output_type": "execute_result"
    }
   ],
   "source": [
    "df.iloc[3]"
   ]
  },
  {
   "cell_type": "code",
   "execution_count": 50,
   "id": "374bf3a7",
   "metadata": {},
   "outputs": [],
   "source": [
    "df.reset_index(inplace=True)"
   ]
  },
  {
   "cell_type": "code",
   "execution_count": 60,
   "id": "642996c4",
   "metadata": {},
   "outputs": [
    {
     "data": {
      "text/html": [
       "<div>\n",
       "<style scoped>\n",
       "    .dataframe tbody tr th:only-of-type {\n",
       "        vertical-align: middle;\n",
       "    }\n",
       "\n",
       "    .dataframe tbody tr th {\n",
       "        vertical-align: top;\n",
       "    }\n",
       "\n",
       "    .dataframe thead th {\n",
       "        text-align: right;\n",
       "    }\n",
       "</style>\n",
       "<table border=\"1\" class=\"dataframe\">\n",
       "  <thead>\n",
       "    <tr style=\"text-align: right;\">\n",
       "      <th></th>\n",
       "      <th>emri</th>\n",
       "      <th>mbiemri</th>\n",
       "      <th>email</th>\n",
       "    </tr>\n",
       "  </thead>\n",
       "  <tbody>\n",
       "    <tr>\n",
       "      <th>0</th>\n",
       "      <td>Blerta</td>\n",
       "      <td>Hoxha</td>\n",
       "      <td>blerta.hoxha@gmail.com</td>\n",
       "    </tr>\n",
       "    <tr>\n",
       "      <th>1</th>\n",
       "      <td>Agon</td>\n",
       "      <td>Salihu</td>\n",
       "      <td>agon.salihu@gmail.com</td>\n",
       "    </tr>\n",
       "    <tr>\n",
       "      <th>2</th>\n",
       "      <td>Bernard</td>\n",
       "      <td>Kastrati</td>\n",
       "      <td>bernard.kastrati@gmail.com</td>\n",
       "    </tr>\n",
       "    <tr>\n",
       "      <th>3</th>\n",
       "      <td>Arbnor</td>\n",
       "      <td>Hetemi</td>\n",
       "      <td>arbnor.hetemi@gmail.com</td>\n",
       "    </tr>\n",
       "    <tr>\n",
       "      <th>4</th>\n",
       "      <td>Blerta</td>\n",
       "      <td>Ahmeti</td>\n",
       "      <td>blerta.ahmeti@gmail.com</td>\n",
       "    </tr>\n",
       "  </tbody>\n",
       "</table>\n",
       "</div>"
      ],
      "text/plain": [
       "      emri   mbiemri                       email\n",
       "0   Blerta     Hoxha      blerta.hoxha@gmail.com\n",
       "1     Agon    Salihu       agon.salihu@gmail.com\n",
       "2  Bernard  Kastrati  bernard.kastrati@gmail.com\n",
       "3   Arbnor    Hetemi     arbnor.hetemi@gmail.com\n",
       "4   Blerta    Ahmeti     blerta.ahmeti@gmail.com"
      ]
     },
     "execution_count": 60,
     "metadata": {},
     "output_type": "execute_result"
    }
   ],
   "source": [
    "df"
   ]
  },
  {
   "cell_type": "code",
   "execution_count": 59,
   "id": "d43adc86",
   "metadata": {},
   "outputs": [
    {
     "data": {
      "text/plain": [
       "0     True\n",
       "1    False\n",
       "2    False\n",
       "3    False\n",
       "4     True\n",
       "Name: emri, dtype: bool"
      ]
     },
     "execution_count": 59,
     "metadata": {},
     "output_type": "execute_result"
    }
   ],
   "source": [
    "df['emri'] == 'Blerta'"
   ]
  },
  {
   "cell_type": "code",
   "execution_count": 61,
   "id": "beea841f",
   "metadata": {},
   "outputs": [],
   "source": [
    "filt=(df['emri'] == 'Blerta')"
   ]
  },
  {
   "cell_type": "code",
   "execution_count": 62,
   "id": "9774d271",
   "metadata": {},
   "outputs": [
    {
     "data": {
      "text/plain": [
       "0     True\n",
       "1    False\n",
       "2    False\n",
       "3    False\n",
       "4     True\n",
       "Name: emri, dtype: bool"
      ]
     },
     "execution_count": 62,
     "metadata": {},
     "output_type": "execute_result"
    }
   ],
   "source": [
    "filt"
   ]
  },
  {
   "cell_type": "code",
   "execution_count": 63,
   "id": "89691df3",
   "metadata": {},
   "outputs": [
    {
     "data": {
      "text/html": [
       "<div>\n",
       "<style scoped>\n",
       "    .dataframe tbody tr th:only-of-type {\n",
       "        vertical-align: middle;\n",
       "    }\n",
       "\n",
       "    .dataframe tbody tr th {\n",
       "        vertical-align: top;\n",
       "    }\n",
       "\n",
       "    .dataframe thead th {\n",
       "        text-align: right;\n",
       "    }\n",
       "</style>\n",
       "<table border=\"1\" class=\"dataframe\">\n",
       "  <thead>\n",
       "    <tr style=\"text-align: right;\">\n",
       "      <th></th>\n",
       "      <th>emri</th>\n",
       "      <th>mbiemri</th>\n",
       "      <th>email</th>\n",
       "    </tr>\n",
       "  </thead>\n",
       "  <tbody>\n",
       "    <tr>\n",
       "      <th>0</th>\n",
       "      <td>Blerta</td>\n",
       "      <td>Hoxha</td>\n",
       "      <td>blerta.hoxha@gmail.com</td>\n",
       "    </tr>\n",
       "    <tr>\n",
       "      <th>4</th>\n",
       "      <td>Blerta</td>\n",
       "      <td>Ahmeti</td>\n",
       "      <td>blerta.ahmeti@gmail.com</td>\n",
       "    </tr>\n",
       "  </tbody>\n",
       "</table>\n",
       "</div>"
      ],
      "text/plain": [
       "     emri mbiemri                    email\n",
       "0  Blerta   Hoxha   blerta.hoxha@gmail.com\n",
       "4  Blerta  Ahmeti  blerta.ahmeti@gmail.com"
      ]
     },
     "execution_count": 63,
     "metadata": {},
     "output_type": "execute_result"
    }
   ],
   "source": [
    "df[filt]"
   ]
  },
  {
   "cell_type": "code",
   "execution_count": 64,
   "id": "0a9894f0",
   "metadata": {},
   "outputs": [
    {
     "data": {
      "text/plain": [
       "0     blerta.hoxha@gmail.com\n",
       "4    blerta.ahmeti@gmail.com\n",
       "Name: email, dtype: object"
      ]
     },
     "execution_count": 64,
     "metadata": {},
     "output_type": "execute_result"
    }
   ],
   "source": [
    "df.loc[filt, 'email']"
   ]
  },
  {
   "cell_type": "code",
   "execution_count": 65,
   "id": "6824f0a3",
   "metadata": {},
   "outputs": [],
   "source": [
    "filt=(df['emri'] == 'Blerta')|(df['emri'] == 'Agon')"
   ]
  },
  {
   "cell_type": "code",
   "execution_count": 66,
   "id": "55557e40",
   "metadata": {},
   "outputs": [
    {
     "data": {
      "text/plain": [
       "0     True\n",
       "1     True\n",
       "2    False\n",
       "3    False\n",
       "4     True\n",
       "Name: emri, dtype: bool"
      ]
     },
     "execution_count": 66,
     "metadata": {},
     "output_type": "execute_result"
    }
   ],
   "source": [
    "filt"
   ]
  },
  {
   "cell_type": "code",
   "execution_count": 67,
   "id": "d2c72612",
   "metadata": {},
   "outputs": [
    {
     "data": {
      "text/html": [
       "<div>\n",
       "<style scoped>\n",
       "    .dataframe tbody tr th:only-of-type {\n",
       "        vertical-align: middle;\n",
       "    }\n",
       "\n",
       "    .dataframe tbody tr th {\n",
       "        vertical-align: top;\n",
       "    }\n",
       "\n",
       "    .dataframe thead th {\n",
       "        text-align: right;\n",
       "    }\n",
       "</style>\n",
       "<table border=\"1\" class=\"dataframe\">\n",
       "  <thead>\n",
       "    <tr style=\"text-align: right;\">\n",
       "      <th></th>\n",
       "      <th>emri</th>\n",
       "      <th>mbiemri</th>\n",
       "      <th>email</th>\n",
       "    </tr>\n",
       "  </thead>\n",
       "  <tbody>\n",
       "    <tr>\n",
       "      <th>0</th>\n",
       "      <td>Blerta</td>\n",
       "      <td>Hoxha</td>\n",
       "      <td>blerta.hoxha@gmail.com</td>\n",
       "    </tr>\n",
       "    <tr>\n",
       "      <th>1</th>\n",
       "      <td>Agon</td>\n",
       "      <td>Salihu</td>\n",
       "      <td>agon.salihu@gmail.com</td>\n",
       "    </tr>\n",
       "    <tr>\n",
       "      <th>4</th>\n",
       "      <td>Blerta</td>\n",
       "      <td>Ahmeti</td>\n",
       "      <td>blerta.ahmeti@gmail.com</td>\n",
       "    </tr>\n",
       "  </tbody>\n",
       "</table>\n",
       "</div>"
      ],
      "text/plain": [
       "     emri mbiemri                    email\n",
       "0  Blerta   Hoxha   blerta.hoxha@gmail.com\n",
       "1    Agon  Salihu    agon.salihu@gmail.com\n",
       "4  Blerta  Ahmeti  blerta.ahmeti@gmail.com"
      ]
     },
     "execution_count": 67,
     "metadata": {},
     "output_type": "execute_result"
    }
   ],
   "source": [
    "df[filt]"
   ]
  },
  {
   "cell_type": "code",
   "execution_count": 69,
   "id": "ba212d26",
   "metadata": {},
   "outputs": [
    {
     "data": {
      "text/plain": [
       "0     blerta.hoxha@gmail.com\n",
       "1      agon.salihu@gmail.com\n",
       "4    blerta.ahmeti@gmail.com\n",
       "Name: email, dtype: object"
      ]
     },
     "execution_count": 69,
     "metadata": {},
     "output_type": "execute_result"
    }
   ],
   "source": [
    "df.loc[filt, 'email']"
   ]
  },
  {
   "cell_type": "code",
   "execution_count": 78,
   "id": "745675be",
   "metadata": {},
   "outputs": [
    {
     "data": {
      "text/html": [
       "<div>\n",
       "<style scoped>\n",
       "    .dataframe tbody tr th:only-of-type {\n",
       "        vertical-align: middle;\n",
       "    }\n",
       "\n",
       "    .dataframe tbody tr th {\n",
       "        vertical-align: top;\n",
       "    }\n",
       "\n",
       "    .dataframe thead th {\n",
       "        text-align: right;\n",
       "    }\n",
       "</style>\n",
       "<table border=\"1\" class=\"dataframe\">\n",
       "  <thead>\n",
       "    <tr style=\"text-align: right;\">\n",
       "      <th></th>\n",
       "      <th>emri</th>\n",
       "      <th>email</th>\n",
       "    </tr>\n",
       "  </thead>\n",
       "  <tbody>\n",
       "    <tr>\n",
       "      <th>2</th>\n",
       "      <td>Bernard</td>\n",
       "      <td>bernard.kastrati@gmail.com</td>\n",
       "    </tr>\n",
       "    <tr>\n",
       "      <th>3</th>\n",
       "      <td>Arbnor</td>\n",
       "      <td>arbnor.hetemi@gmail.com</td>\n",
       "    </tr>\n",
       "  </tbody>\n",
       "</table>\n",
       "</div>"
      ],
      "text/plain": [
       "      emri                       email\n",
       "2  Bernard  bernard.kastrati@gmail.com\n",
       "3   Arbnor     arbnor.hetemi@gmail.com"
      ]
     },
     "execution_count": 78,
     "metadata": {},
     "output_type": "execute_result"
    }
   ],
   "source": [
    "df.loc[~filt,['emri','email'] ]"
   ]
  },
  {
   "cell_type": "code",
   "execution_count": 79,
   "id": "52e06d9b",
   "metadata": {},
   "outputs": [
    {
     "data": {
      "text/html": [
       "<div>\n",
       "<style scoped>\n",
       "    .dataframe tbody tr th:only-of-type {\n",
       "        vertical-align: middle;\n",
       "    }\n",
       "\n",
       "    .dataframe tbody tr th {\n",
       "        vertical-align: top;\n",
       "    }\n",
       "\n",
       "    .dataframe thead th {\n",
       "        text-align: right;\n",
       "    }\n",
       "</style>\n",
       "<table border=\"1\" class=\"dataframe\">\n",
       "  <thead>\n",
       "    <tr style=\"text-align: right;\">\n",
       "      <th></th>\n",
       "      <th>emri</th>\n",
       "      <th>mbiemri</th>\n",
       "      <th>email</th>\n",
       "    </tr>\n",
       "  </thead>\n",
       "  <tbody>\n",
       "    <tr>\n",
       "      <th>0</th>\n",
       "      <td>Blerta</td>\n",
       "      <td>Hoxha</td>\n",
       "      <td>blerta.hoxha@gmail.com</td>\n",
       "    </tr>\n",
       "    <tr>\n",
       "      <th>1</th>\n",
       "      <td>Agon</td>\n",
       "      <td>Salihu</td>\n",
       "      <td>agon.salihu@gmail.com</td>\n",
       "    </tr>\n",
       "    <tr>\n",
       "      <th>2</th>\n",
       "      <td>Bernard</td>\n",
       "      <td>Kastrati</td>\n",
       "      <td>bernard.kastrati@gmail.com</td>\n",
       "    </tr>\n",
       "    <tr>\n",
       "      <th>3</th>\n",
       "      <td>Arbnor</td>\n",
       "      <td>Hetemi</td>\n",
       "      <td>arbnor.hetemi@gmail.com</td>\n",
       "    </tr>\n",
       "    <tr>\n",
       "      <th>4</th>\n",
       "      <td>Blerta</td>\n",
       "      <td>Ahmeti</td>\n",
       "      <td>blerta.ahmeti@gmail.com</td>\n",
       "    </tr>\n",
       "  </tbody>\n",
       "</table>\n",
       "</div>"
      ],
      "text/plain": [
       "      emri   mbiemri                       email\n",
       "0   Blerta     Hoxha      blerta.hoxha@gmail.com\n",
       "1     Agon    Salihu       agon.salihu@gmail.com\n",
       "2  Bernard  Kastrati  bernard.kastrati@gmail.com\n",
       "3   Arbnor    Hetemi     arbnor.hetemi@gmail.com\n",
       "4   Blerta    Ahmeti     blerta.ahmeti@gmail.com"
      ]
     },
     "execution_count": 79,
     "metadata": {},
     "output_type": "execute_result"
    }
   ],
   "source": [
    "df"
   ]
  },
  {
   "cell_type": "code",
   "execution_count": 80,
   "id": "dd77f07b",
   "metadata": {},
   "outputs": [
    {
     "data": {
      "text/plain": [
       "Index(['emri', 'mbiemri', 'email'], dtype='object')"
      ]
     },
     "execution_count": 80,
     "metadata": {},
     "output_type": "execute_result"
    }
   ],
   "source": [
    "df.columns"
   ]
  },
  {
   "cell_type": "code",
   "execution_count": 82,
   "id": "2ff32ce8",
   "metadata": {},
   "outputs": [],
   "source": [
    "df.columns=['emri_pare','mbiemri_pare', 'email']"
   ]
  },
  {
   "cell_type": "code",
   "execution_count": 83,
   "id": "3cd335b6",
   "metadata": {},
   "outputs": [
    {
     "data": {
      "text/html": [
       "<div>\n",
       "<style scoped>\n",
       "    .dataframe tbody tr th:only-of-type {\n",
       "        vertical-align: middle;\n",
       "    }\n",
       "\n",
       "    .dataframe tbody tr th {\n",
       "        vertical-align: top;\n",
       "    }\n",
       "\n",
       "    .dataframe thead th {\n",
       "        text-align: right;\n",
       "    }\n",
       "</style>\n",
       "<table border=\"1\" class=\"dataframe\">\n",
       "  <thead>\n",
       "    <tr style=\"text-align: right;\">\n",
       "      <th></th>\n",
       "      <th>emri_pare</th>\n",
       "      <th>mbiemri_pare</th>\n",
       "      <th>email</th>\n",
       "    </tr>\n",
       "  </thead>\n",
       "  <tbody>\n",
       "    <tr>\n",
       "      <th>0</th>\n",
       "      <td>Blerta</td>\n",
       "      <td>Hoxha</td>\n",
       "      <td>blerta.hoxha@gmail.com</td>\n",
       "    </tr>\n",
       "    <tr>\n",
       "      <th>1</th>\n",
       "      <td>Agon</td>\n",
       "      <td>Salihu</td>\n",
       "      <td>agon.salihu@gmail.com</td>\n",
       "    </tr>\n",
       "    <tr>\n",
       "      <th>2</th>\n",
       "      <td>Bernard</td>\n",
       "      <td>Kastrati</td>\n",
       "      <td>bernard.kastrati@gmail.com</td>\n",
       "    </tr>\n",
       "    <tr>\n",
       "      <th>3</th>\n",
       "      <td>Arbnor</td>\n",
       "      <td>Hetemi</td>\n",
       "      <td>arbnor.hetemi@gmail.com</td>\n",
       "    </tr>\n",
       "    <tr>\n",
       "      <th>4</th>\n",
       "      <td>Blerta</td>\n",
       "      <td>Ahmeti</td>\n",
       "      <td>blerta.ahmeti@gmail.com</td>\n",
       "    </tr>\n",
       "  </tbody>\n",
       "</table>\n",
       "</div>"
      ],
      "text/plain": [
       "  emri_pare mbiemri_pare                       email\n",
       "0    Blerta        Hoxha      blerta.hoxha@gmail.com\n",
       "1      Agon       Salihu       agon.salihu@gmail.com\n",
       "2   Bernard     Kastrati  bernard.kastrati@gmail.com\n",
       "3    Arbnor       Hetemi     arbnor.hetemi@gmail.com\n",
       "4    Blerta       Ahmeti     blerta.ahmeti@gmail.com"
      ]
     },
     "execution_count": 83,
     "metadata": {},
     "output_type": "execute_result"
    }
   ],
   "source": [
    "df"
   ]
  },
  {
   "cell_type": "code",
   "execution_count": 84,
   "id": "b5a6bb14",
   "metadata": {},
   "outputs": [],
   "source": [
    "df.columns=[x.upper() for x in df.columns]"
   ]
  },
  {
   "cell_type": "code",
   "execution_count": 85,
   "id": "71064c30",
   "metadata": {},
   "outputs": [
    {
     "data": {
      "text/html": [
       "<div>\n",
       "<style scoped>\n",
       "    .dataframe tbody tr th:only-of-type {\n",
       "        vertical-align: middle;\n",
       "    }\n",
       "\n",
       "    .dataframe tbody tr th {\n",
       "        vertical-align: top;\n",
       "    }\n",
       "\n",
       "    .dataframe thead th {\n",
       "        text-align: right;\n",
       "    }\n",
       "</style>\n",
       "<table border=\"1\" class=\"dataframe\">\n",
       "  <thead>\n",
       "    <tr style=\"text-align: right;\">\n",
       "      <th></th>\n",
       "      <th>EMRI_PARE</th>\n",
       "      <th>MBIEMRI_PARE</th>\n",
       "      <th>EMAIL</th>\n",
       "    </tr>\n",
       "  </thead>\n",
       "  <tbody>\n",
       "    <tr>\n",
       "      <th>0</th>\n",
       "      <td>Blerta</td>\n",
       "      <td>Hoxha</td>\n",
       "      <td>blerta.hoxha@gmail.com</td>\n",
       "    </tr>\n",
       "    <tr>\n",
       "      <th>1</th>\n",
       "      <td>Agon</td>\n",
       "      <td>Salihu</td>\n",
       "      <td>agon.salihu@gmail.com</td>\n",
       "    </tr>\n",
       "    <tr>\n",
       "      <th>2</th>\n",
       "      <td>Bernard</td>\n",
       "      <td>Kastrati</td>\n",
       "      <td>bernard.kastrati@gmail.com</td>\n",
       "    </tr>\n",
       "    <tr>\n",
       "      <th>3</th>\n",
       "      <td>Arbnor</td>\n",
       "      <td>Hetemi</td>\n",
       "      <td>arbnor.hetemi@gmail.com</td>\n",
       "    </tr>\n",
       "    <tr>\n",
       "      <th>4</th>\n",
       "      <td>Blerta</td>\n",
       "      <td>Ahmeti</td>\n",
       "      <td>blerta.ahmeti@gmail.com</td>\n",
       "    </tr>\n",
       "  </tbody>\n",
       "</table>\n",
       "</div>"
      ],
      "text/plain": [
       "  EMRI_PARE MBIEMRI_PARE                       EMAIL\n",
       "0    Blerta        Hoxha      blerta.hoxha@gmail.com\n",
       "1      Agon       Salihu       agon.salihu@gmail.com\n",
       "2   Bernard     Kastrati  bernard.kastrati@gmail.com\n",
       "3    Arbnor       Hetemi     arbnor.hetemi@gmail.com\n",
       "4    Blerta       Ahmeti     blerta.ahmeti@gmail.com"
      ]
     },
     "execution_count": 85,
     "metadata": {},
     "output_type": "execute_result"
    }
   ],
   "source": [
    "df"
   ]
  },
  {
   "cell_type": "code",
   "execution_count": 86,
   "id": "a83710d4",
   "metadata": {},
   "outputs": [],
   "source": [
    "df.columns=[x.lower() for x in df.columns]"
   ]
  },
  {
   "cell_type": "code",
   "execution_count": 87,
   "id": "32dd5709",
   "metadata": {},
   "outputs": [
    {
     "data": {
      "text/html": [
       "<div>\n",
       "<style scoped>\n",
       "    .dataframe tbody tr th:only-of-type {\n",
       "        vertical-align: middle;\n",
       "    }\n",
       "\n",
       "    .dataframe tbody tr th {\n",
       "        vertical-align: top;\n",
       "    }\n",
       "\n",
       "    .dataframe thead th {\n",
       "        text-align: right;\n",
       "    }\n",
       "</style>\n",
       "<table border=\"1\" class=\"dataframe\">\n",
       "  <thead>\n",
       "    <tr style=\"text-align: right;\">\n",
       "      <th></th>\n",
       "      <th>emri_pare</th>\n",
       "      <th>mbiemri_pare</th>\n",
       "      <th>email</th>\n",
       "    </tr>\n",
       "  </thead>\n",
       "  <tbody>\n",
       "    <tr>\n",
       "      <th>0</th>\n",
       "      <td>Blerta</td>\n",
       "      <td>Hoxha</td>\n",
       "      <td>blerta.hoxha@gmail.com</td>\n",
       "    </tr>\n",
       "    <tr>\n",
       "      <th>1</th>\n",
       "      <td>Agon</td>\n",
       "      <td>Salihu</td>\n",
       "      <td>agon.salihu@gmail.com</td>\n",
       "    </tr>\n",
       "    <tr>\n",
       "      <th>2</th>\n",
       "      <td>Bernard</td>\n",
       "      <td>Kastrati</td>\n",
       "      <td>bernard.kastrati@gmail.com</td>\n",
       "    </tr>\n",
       "    <tr>\n",
       "      <th>3</th>\n",
       "      <td>Arbnor</td>\n",
       "      <td>Hetemi</td>\n",
       "      <td>arbnor.hetemi@gmail.com</td>\n",
       "    </tr>\n",
       "    <tr>\n",
       "      <th>4</th>\n",
       "      <td>Blerta</td>\n",
       "      <td>Ahmeti</td>\n",
       "      <td>blerta.ahmeti@gmail.com</td>\n",
       "    </tr>\n",
       "  </tbody>\n",
       "</table>\n",
       "</div>"
      ],
      "text/plain": [
       "  emri_pare mbiemri_pare                       email\n",
       "0    Blerta        Hoxha      blerta.hoxha@gmail.com\n",
       "1      Agon       Salihu       agon.salihu@gmail.com\n",
       "2   Bernard     Kastrati  bernard.kastrati@gmail.com\n",
       "3    Arbnor       Hetemi     arbnor.hetemi@gmail.com\n",
       "4    Blerta       Ahmeti     blerta.ahmeti@gmail.com"
      ]
     },
     "execution_count": 87,
     "metadata": {},
     "output_type": "execute_result"
    }
   ],
   "source": [
    "df"
   ]
  },
  {
   "cell_type": "code",
   "execution_count": 96,
   "id": "ff4c0f2d",
   "metadata": {},
   "outputs": [],
   "source": [
    "df.columns=df.columns.str.replace('','')"
   ]
  },
  {
   "cell_type": "code",
   "execution_count": 97,
   "id": "3d8d4861",
   "metadata": {},
   "outputs": [
    {
     "data": {
      "text/html": [
       "<div>\n",
       "<style scoped>\n",
       "    .dataframe tbody tr th:only-of-type {\n",
       "        vertical-align: middle;\n",
       "    }\n",
       "\n",
       "    .dataframe tbody tr th {\n",
       "        vertical-align: top;\n",
       "    }\n",
       "\n",
       "    .dataframe thead th {\n",
       "        text-align: right;\n",
       "    }\n",
       "</style>\n",
       "<table border=\"1\" class=\"dataframe\">\n",
       "  <thead>\n",
       "    <tr style=\"text-align: right;\">\n",
       "      <th></th>\n",
       "      <th>*e*m*r*i***p*a*r*e*</th>\n",
       "      <th>*m*b*i*e*m*r*i***p*a*r*e*</th>\n",
       "      <th>*e*m*a*i*l*</th>\n",
       "    </tr>\n",
       "  </thead>\n",
       "  <tbody>\n",
       "    <tr>\n",
       "      <th>0</th>\n",
       "      <td>Blerta</td>\n",
       "      <td>Hoxha</td>\n",
       "      <td>blerta.hoxha@gmail.com</td>\n",
       "    </tr>\n",
       "    <tr>\n",
       "      <th>1</th>\n",
       "      <td>Agon</td>\n",
       "      <td>Salihu</td>\n",
       "      <td>agon.salihu@gmail.com</td>\n",
       "    </tr>\n",
       "    <tr>\n",
       "      <th>2</th>\n",
       "      <td>Bernard</td>\n",
       "      <td>Kastrati</td>\n",
       "      <td>bernard.kastrati@gmail.com</td>\n",
       "    </tr>\n",
       "    <tr>\n",
       "      <th>3</th>\n",
       "      <td>Arbnor</td>\n",
       "      <td>Hetemi</td>\n",
       "      <td>arbnor.hetemi@gmail.com</td>\n",
       "    </tr>\n",
       "    <tr>\n",
       "      <th>4</th>\n",
       "      <td>Blerta</td>\n",
       "      <td>Ahmeti</td>\n",
       "      <td>blerta.ahmeti@gmail.com</td>\n",
       "    </tr>\n",
       "  </tbody>\n",
       "</table>\n",
       "</div>"
      ],
      "text/plain": [
       "  *e*m*r*i***p*a*r*e* *m*b*i*e*m*r*i***p*a*r*e*                 *e*m*a*i*l*\n",
       "0              Blerta                     Hoxha      blerta.hoxha@gmail.com\n",
       "1                Agon                    Salihu       agon.salihu@gmail.com\n",
       "2             Bernard                  Kastrati  bernard.kastrati@gmail.com\n",
       "3              Arbnor                    Hetemi     arbnor.hetemi@gmail.com\n",
       "4              Blerta                    Ahmeti     blerta.ahmeti@gmail.com"
      ]
     },
     "execution_count": 97,
     "metadata": {},
     "output_type": "execute_result"
    }
   ],
   "source": [
    "df"
   ]
  },
  {
   "cell_type": "code",
   "execution_count": 98,
   "id": "a3402b9e",
   "metadata": {},
   "outputs": [],
   "source": [
    "df.columns=['emri_pare','mbiemri_pare', 'email']"
   ]
  },
  {
   "cell_type": "code",
   "execution_count": 99,
   "id": "4f5adaa3",
   "metadata": {},
   "outputs": [
    {
     "data": {
      "text/html": [
       "<div>\n",
       "<style scoped>\n",
       "    .dataframe tbody tr th:only-of-type {\n",
       "        vertical-align: middle;\n",
       "    }\n",
       "\n",
       "    .dataframe tbody tr th {\n",
       "        vertical-align: top;\n",
       "    }\n",
       "\n",
       "    .dataframe thead th {\n",
       "        text-align: right;\n",
       "    }\n",
       "</style>\n",
       "<table border=\"1\" class=\"dataframe\">\n",
       "  <thead>\n",
       "    <tr style=\"text-align: right;\">\n",
       "      <th></th>\n",
       "      <th>emri_pare</th>\n",
       "      <th>mbiemri_pare</th>\n",
       "      <th>email</th>\n",
       "    </tr>\n",
       "  </thead>\n",
       "  <tbody>\n",
       "    <tr>\n",
       "      <th>0</th>\n",
       "      <td>Blerta</td>\n",
       "      <td>Hoxha</td>\n",
       "      <td>blerta.hoxha@gmail.com</td>\n",
       "    </tr>\n",
       "    <tr>\n",
       "      <th>1</th>\n",
       "      <td>Agon</td>\n",
       "      <td>Salihu</td>\n",
       "      <td>agon.salihu@gmail.com</td>\n",
       "    </tr>\n",
       "    <tr>\n",
       "      <th>2</th>\n",
       "      <td>Bernard</td>\n",
       "      <td>Kastrati</td>\n",
       "      <td>bernard.kastrati@gmail.com</td>\n",
       "    </tr>\n",
       "    <tr>\n",
       "      <th>3</th>\n",
       "      <td>Arbnor</td>\n",
       "      <td>Hetemi</td>\n",
       "      <td>arbnor.hetemi@gmail.com</td>\n",
       "    </tr>\n",
       "    <tr>\n",
       "      <th>4</th>\n",
       "      <td>Blerta</td>\n",
       "      <td>Ahmeti</td>\n",
       "      <td>blerta.ahmeti@gmail.com</td>\n",
       "    </tr>\n",
       "  </tbody>\n",
       "</table>\n",
       "</div>"
      ],
      "text/plain": [
       "  emri_pare mbiemri_pare                       email\n",
       "0    Blerta        Hoxha      blerta.hoxha@gmail.com\n",
       "1      Agon       Salihu       agon.salihu@gmail.com\n",
       "2   Bernard     Kastrati  bernard.kastrati@gmail.com\n",
       "3    Arbnor       Hetemi     arbnor.hetemi@gmail.com\n",
       "4    Blerta       Ahmeti     blerta.ahmeti@gmail.com"
      ]
     },
     "execution_count": 99,
     "metadata": {},
     "output_type": "execute_result"
    }
   ],
   "source": [
    "df"
   ]
  },
  {
   "cell_type": "code",
   "execution_count": 100,
   "id": "092a0ecc",
   "metadata": {},
   "outputs": [],
   "source": [
    "df.rename(columns={'emri_pare':'emri','mbiemri_pare':'mbiemri'},inplace=True)"
   ]
  },
  {
   "cell_type": "code",
   "execution_count": 101,
   "id": "59cb0b18",
   "metadata": {},
   "outputs": [
    {
     "data": {
      "text/html": [
       "<div>\n",
       "<style scoped>\n",
       "    .dataframe tbody tr th:only-of-type {\n",
       "        vertical-align: middle;\n",
       "    }\n",
       "\n",
       "    .dataframe tbody tr th {\n",
       "        vertical-align: top;\n",
       "    }\n",
       "\n",
       "    .dataframe thead th {\n",
       "        text-align: right;\n",
       "    }\n",
       "</style>\n",
       "<table border=\"1\" class=\"dataframe\">\n",
       "  <thead>\n",
       "    <tr style=\"text-align: right;\">\n",
       "      <th></th>\n",
       "      <th>emri</th>\n",
       "      <th>mbiemri</th>\n",
       "      <th>email</th>\n",
       "    </tr>\n",
       "  </thead>\n",
       "  <tbody>\n",
       "    <tr>\n",
       "      <th>0</th>\n",
       "      <td>Blerta</td>\n",
       "      <td>Hoxha</td>\n",
       "      <td>blerta.hoxha@gmail.com</td>\n",
       "    </tr>\n",
       "    <tr>\n",
       "      <th>1</th>\n",
       "      <td>Agon</td>\n",
       "      <td>Salihu</td>\n",
       "      <td>agon.salihu@gmail.com</td>\n",
       "    </tr>\n",
       "    <tr>\n",
       "      <th>2</th>\n",
       "      <td>Bernard</td>\n",
       "      <td>Kastrati</td>\n",
       "      <td>bernard.kastrati@gmail.com</td>\n",
       "    </tr>\n",
       "    <tr>\n",
       "      <th>3</th>\n",
       "      <td>Arbnor</td>\n",
       "      <td>Hetemi</td>\n",
       "      <td>arbnor.hetemi@gmail.com</td>\n",
       "    </tr>\n",
       "    <tr>\n",
       "      <th>4</th>\n",
       "      <td>Blerta</td>\n",
       "      <td>Ahmeti</td>\n",
       "      <td>blerta.ahmeti@gmail.com</td>\n",
       "    </tr>\n",
       "  </tbody>\n",
       "</table>\n",
       "</div>"
      ],
      "text/plain": [
       "      emri   mbiemri                       email\n",
       "0   Blerta     Hoxha      blerta.hoxha@gmail.com\n",
       "1     Agon    Salihu       agon.salihu@gmail.com\n",
       "2  Bernard  Kastrati  bernard.kastrati@gmail.com\n",
       "3   Arbnor    Hetemi     arbnor.hetemi@gmail.com\n",
       "4   Blerta    Ahmeti     blerta.ahmeti@gmail.com"
      ]
     },
     "execution_count": 101,
     "metadata": {},
     "output_type": "execute_result"
    }
   ],
   "source": [
    "df"
   ]
  },
  {
   "cell_type": "code",
   "execution_count": 102,
   "id": "03b62cc7",
   "metadata": {},
   "outputs": [],
   "source": [
    "df.loc[2] = ['Bernard','Kastrati','bernard.kastrati@gmail.com']"
   ]
  },
  {
   "cell_type": "code",
   "execution_count": 103,
   "id": "cc1eb3c8",
   "metadata": {},
   "outputs": [
    {
     "data": {
      "text/html": [
       "<div>\n",
       "<style scoped>\n",
       "    .dataframe tbody tr th:only-of-type {\n",
       "        vertical-align: middle;\n",
       "    }\n",
       "\n",
       "    .dataframe tbody tr th {\n",
       "        vertical-align: top;\n",
       "    }\n",
       "\n",
       "    .dataframe thead th {\n",
       "        text-align: right;\n",
       "    }\n",
       "</style>\n",
       "<table border=\"1\" class=\"dataframe\">\n",
       "  <thead>\n",
       "    <tr style=\"text-align: right;\">\n",
       "      <th></th>\n",
       "      <th>emri</th>\n",
       "      <th>mbiemri</th>\n",
       "      <th>email</th>\n",
       "    </tr>\n",
       "  </thead>\n",
       "  <tbody>\n",
       "    <tr>\n",
       "      <th>0</th>\n",
       "      <td>Blerta</td>\n",
       "      <td>Hoxha</td>\n",
       "      <td>blerta.hoxha@gmail.com</td>\n",
       "    </tr>\n",
       "    <tr>\n",
       "      <th>1</th>\n",
       "      <td>Agon</td>\n",
       "      <td>Salihu</td>\n",
       "      <td>agon.salihu@gmail.com</td>\n",
       "    </tr>\n",
       "    <tr>\n",
       "      <th>2</th>\n",
       "      <td>Bernard</td>\n",
       "      <td>Kastrati</td>\n",
       "      <td>bernard.kastrati@gmail.com</td>\n",
       "    </tr>\n",
       "    <tr>\n",
       "      <th>3</th>\n",
       "      <td>Arbnor</td>\n",
       "      <td>Hetemi</td>\n",
       "      <td>arbnor.hetemi@gmail.com</td>\n",
       "    </tr>\n",
       "    <tr>\n",
       "      <th>4</th>\n",
       "      <td>Blerta</td>\n",
       "      <td>Ahmeti</td>\n",
       "      <td>blerta.ahmeti@gmail.com</td>\n",
       "    </tr>\n",
       "  </tbody>\n",
       "</table>\n",
       "</div>"
      ],
      "text/plain": [
       "      emri   mbiemri                       email\n",
       "0   Blerta     Hoxha      blerta.hoxha@gmail.com\n",
       "1     Agon    Salihu       agon.salihu@gmail.com\n",
       "2  Bernard  Kastrati  bernard.kastrati@gmail.com\n",
       "3   Arbnor    Hetemi     arbnor.hetemi@gmail.com\n",
       "4   Blerta    Ahmeti     blerta.ahmeti@gmail.com"
      ]
     },
     "execution_count": 103,
     "metadata": {},
     "output_type": "execute_result"
    }
   ],
   "source": [
    "df"
   ]
  },
  {
   "cell_type": "code",
   "execution_count": 104,
   "id": "e006fb9b",
   "metadata": {},
   "outputs": [],
   "source": [
    "df.loc[2,['emri','mbiemri','email']]=['Adnan','Lupqi','adnan.lupqi@gmail.com']"
   ]
  },
  {
   "cell_type": "code",
   "execution_count": 110,
   "id": "aa1f015f",
   "metadata": {},
   "outputs": [
    {
     "data": {
      "text/html": [
       "<div>\n",
       "<style scoped>\n",
       "    .dataframe tbody tr th:only-of-type {\n",
       "        vertical-align: middle;\n",
       "    }\n",
       "\n",
       "    .dataframe tbody tr th {\n",
       "        vertical-align: top;\n",
       "    }\n",
       "\n",
       "    .dataframe thead th {\n",
       "        text-align: right;\n",
       "    }\n",
       "</style>\n",
       "<table border=\"1\" class=\"dataframe\">\n",
       "  <thead>\n",
       "    <tr style=\"text-align: right;\">\n",
       "      <th></th>\n",
       "      <th>emri</th>\n",
       "      <th>mbiemri</th>\n",
       "      <th>email</th>\n",
       "    </tr>\n",
       "  </thead>\n",
       "  <tbody>\n",
       "    <tr>\n",
       "      <th>0</th>\n",
       "      <td>Blerta</td>\n",
       "      <td>Hoxha</td>\n",
       "      <td>blerta.hoxha@gmail.com</td>\n",
       "    </tr>\n",
       "    <tr>\n",
       "      <th>1</th>\n",
       "      <td>Agon</td>\n",
       "      <td>Salihu</td>\n",
       "      <td>agon.salihu@gmail.com</td>\n",
       "    </tr>\n",
       "    <tr>\n",
       "      <th>2</th>\n",
       "      <td>Bernard</td>\n",
       "      <td>Kastrati</td>\n",
       "      <td>bernard.kastrati@gmail.com</td>\n",
       "    </tr>\n",
       "    <tr>\n",
       "      <th>3</th>\n",
       "      <td>Arbnor</td>\n",
       "      <td>Hetemi</td>\n",
       "      <td>arbnor.hetemi@gmail.com</td>\n",
       "    </tr>\n",
       "    <tr>\n",
       "      <th>4</th>\n",
       "      <td>Blerta</td>\n",
       "      <td>Ahmeti</td>\n",
       "      <td>blerta.ahmeti@gmail.com</td>\n",
       "    </tr>\n",
       "    <tr>\n",
       "      <th>5</th>\n",
       "      <td>Adnan</td>\n",
       "      <td>Lupqi</td>\n",
       "      <td>adnan.lupqi@gmail.com</td>\n",
       "    </tr>\n",
       "    <tr>\n",
       "      <th>6</th>\n",
       "      <td>Adnan</td>\n",
       "      <td>Mehmeti</td>\n",
       "      <td>adnan.mehmeti@gmail.com</td>\n",
       "    </tr>\n",
       "  </tbody>\n",
       "</table>\n",
       "</div>"
      ],
      "text/plain": [
       "      emri   mbiemri                       email\n",
       "0   Blerta     Hoxha      blerta.hoxha@gmail.com\n",
       "1     Agon    Salihu       agon.salihu@gmail.com\n",
       "2  Bernard  Kastrati  bernard.kastrati@gmail.com\n",
       "3   Arbnor    Hetemi     arbnor.hetemi@gmail.com\n",
       "4   Blerta    Ahmeti     blerta.ahmeti@gmail.com\n",
       "5    Adnan     Lupqi       adnan.lupqi@gmail.com\n",
       "6    Adnan   Mehmeti     adnan.mehmeti@gmail.com"
      ]
     },
     "execution_count": 110,
     "metadata": {},
     "output_type": "execute_result"
    }
   ],
   "source": [
    "df"
   ]
  },
  {
   "cell_type": "code",
   "execution_count": 113,
   "id": "71444304",
   "metadata": {},
   "outputs": [],
   "source": [
    "df.loc[6,['mbiemri','email']]=['Lupqi','adnan.lupqi@gmail.com']"
   ]
  },
  {
   "cell_type": "code",
   "execution_count": 114,
   "id": "6fc222ec",
   "metadata": {},
   "outputs": [
    {
     "data": {
      "text/html": [
       "<div>\n",
       "<style scoped>\n",
       "    .dataframe tbody tr th:only-of-type {\n",
       "        vertical-align: middle;\n",
       "    }\n",
       "\n",
       "    .dataframe tbody tr th {\n",
       "        vertical-align: top;\n",
       "    }\n",
       "\n",
       "    .dataframe thead th {\n",
       "        text-align: right;\n",
       "    }\n",
       "</style>\n",
       "<table border=\"1\" class=\"dataframe\">\n",
       "  <thead>\n",
       "    <tr style=\"text-align: right;\">\n",
       "      <th></th>\n",
       "      <th>emri</th>\n",
       "      <th>mbiemri</th>\n",
       "      <th>email</th>\n",
       "    </tr>\n",
       "  </thead>\n",
       "  <tbody>\n",
       "    <tr>\n",
       "      <th>0</th>\n",
       "      <td>Blerta</td>\n",
       "      <td>Hoxha</td>\n",
       "      <td>blerta.hoxha@gmail.com</td>\n",
       "    </tr>\n",
       "    <tr>\n",
       "      <th>1</th>\n",
       "      <td>Agon</td>\n",
       "      <td>Salihu</td>\n",
       "      <td>agon.salihu@gmail.com</td>\n",
       "    </tr>\n",
       "    <tr>\n",
       "      <th>2</th>\n",
       "      <td>Bernard</td>\n",
       "      <td>Kastrati</td>\n",
       "      <td>bernard.kastrati@gmail.com</td>\n",
       "    </tr>\n",
       "    <tr>\n",
       "      <th>3</th>\n",
       "      <td>Arbnor</td>\n",
       "      <td>Hetemi</td>\n",
       "      <td>arbnor.hetemi@gmail.com</td>\n",
       "    </tr>\n",
       "    <tr>\n",
       "      <th>4</th>\n",
       "      <td>Blerta</td>\n",
       "      <td>Ahmeti</td>\n",
       "      <td>blerta.ahmeti@gmail.com</td>\n",
       "    </tr>\n",
       "    <tr>\n",
       "      <th>5</th>\n",
       "      <td>Adnan</td>\n",
       "      <td>Lupqi</td>\n",
       "      <td>adnan.lupqi@gmail.com</td>\n",
       "    </tr>\n",
       "    <tr>\n",
       "      <th>6</th>\n",
       "      <td>Adnan</td>\n",
       "      <td>Lupqi</td>\n",
       "      <td>adnan.lupqi@gmail.com</td>\n",
       "    </tr>\n",
       "  </tbody>\n",
       "</table>\n",
       "</div>"
      ],
      "text/plain": [
       "      emri   mbiemri                       email\n",
       "0   Blerta     Hoxha      blerta.hoxha@gmail.com\n",
       "1     Agon    Salihu       agon.salihu@gmail.com\n",
       "2  Bernard  Kastrati  bernard.kastrati@gmail.com\n",
       "3   Arbnor    Hetemi     arbnor.hetemi@gmail.com\n",
       "4   Blerta    Ahmeti     blerta.ahmeti@gmail.com\n",
       "5    Adnan     Lupqi       adnan.lupqi@gmail.com\n",
       "6    Adnan     Lupqi       adnan.lupqi@gmail.com"
      ]
     },
     "execution_count": 114,
     "metadata": {},
     "output_type": "execute_result"
    }
   ],
   "source": [
    "df"
   ]
  },
  {
   "cell_type": "code",
   "execution_count": 115,
   "id": "2070ecba",
   "metadata": {},
   "outputs": [],
   "source": [
    "df.loc[1,'mbiemri'] = \"Shala\""
   ]
  },
  {
   "cell_type": "code",
   "execution_count": 116,
   "id": "fee40f1d",
   "metadata": {},
   "outputs": [
    {
     "data": {
      "text/html": [
       "<div>\n",
       "<style scoped>\n",
       "    .dataframe tbody tr th:only-of-type {\n",
       "        vertical-align: middle;\n",
       "    }\n",
       "\n",
       "    .dataframe tbody tr th {\n",
       "        vertical-align: top;\n",
       "    }\n",
       "\n",
       "    .dataframe thead th {\n",
       "        text-align: right;\n",
       "    }\n",
       "</style>\n",
       "<table border=\"1\" class=\"dataframe\">\n",
       "  <thead>\n",
       "    <tr style=\"text-align: right;\">\n",
       "      <th></th>\n",
       "      <th>emri</th>\n",
       "      <th>mbiemri</th>\n",
       "      <th>email</th>\n",
       "    </tr>\n",
       "  </thead>\n",
       "  <tbody>\n",
       "    <tr>\n",
       "      <th>0</th>\n",
       "      <td>Blerta</td>\n",
       "      <td>Hoxha</td>\n",
       "      <td>blerta.hoxha@gmail.com</td>\n",
       "    </tr>\n",
       "    <tr>\n",
       "      <th>1</th>\n",
       "      <td>Agon</td>\n",
       "      <td>Shala</td>\n",
       "      <td>agon.salihu@gmail.com</td>\n",
       "    </tr>\n",
       "    <tr>\n",
       "      <th>2</th>\n",
       "      <td>Bernard</td>\n",
       "      <td>Kastrati</td>\n",
       "      <td>bernard.kastrati@gmail.com</td>\n",
       "    </tr>\n",
       "    <tr>\n",
       "      <th>3</th>\n",
       "      <td>Arbnor</td>\n",
       "      <td>Hetemi</td>\n",
       "      <td>arbnor.hetemi@gmail.com</td>\n",
       "    </tr>\n",
       "    <tr>\n",
       "      <th>4</th>\n",
       "      <td>Blerta</td>\n",
       "      <td>Ahmeti</td>\n",
       "      <td>blerta.ahmeti@gmail.com</td>\n",
       "    </tr>\n",
       "    <tr>\n",
       "      <th>5</th>\n",
       "      <td>Adnan</td>\n",
       "      <td>Lupqi</td>\n",
       "      <td>adnan.lupqi@gmail.com</td>\n",
       "    </tr>\n",
       "    <tr>\n",
       "      <th>6</th>\n",
       "      <td>Adnan</td>\n",
       "      <td>Lupqi</td>\n",
       "      <td>adnan.lupqi@gmail.com</td>\n",
       "    </tr>\n",
       "  </tbody>\n",
       "</table>\n",
       "</div>"
      ],
      "text/plain": [
       "      emri   mbiemri                       email\n",
       "0   Blerta     Hoxha      blerta.hoxha@gmail.com\n",
       "1     Agon     Shala       agon.salihu@gmail.com\n",
       "2  Bernard  Kastrati  bernard.kastrati@gmail.com\n",
       "3   Arbnor    Hetemi     arbnor.hetemi@gmail.com\n",
       "4   Blerta    Ahmeti     blerta.ahmeti@gmail.com\n",
       "5    Adnan     Lupqi       adnan.lupqi@gmail.com\n",
       "6    Adnan     Lupqi       adnan.lupqi@gmail.com"
      ]
     },
     "execution_count": 116,
     "metadata": {},
     "output_type": "execute_result"
    }
   ],
   "source": [
    "df"
   ]
  },
  {
   "cell_type": "code",
   "execution_count": 121,
   "id": "469ecea7",
   "metadata": {},
   "outputs": [],
   "source": [
    "df.loc['email']='adnan.lupqi@gmail.com'"
   ]
  },
  {
   "cell_type": "code",
   "execution_count": 122,
   "id": "c36aa8d1",
   "metadata": {},
   "outputs": [
    {
     "data": {
      "text/html": [
       "<div>\n",
       "<style scoped>\n",
       "    .dataframe tbody tr th:only-of-type {\n",
       "        vertical-align: middle;\n",
       "    }\n",
       "\n",
       "    .dataframe tbody tr th {\n",
       "        vertical-align: top;\n",
       "    }\n",
       "\n",
       "    .dataframe thead th {\n",
       "        text-align: right;\n",
       "    }\n",
       "</style>\n",
       "<table border=\"1\" class=\"dataframe\">\n",
       "  <thead>\n",
       "    <tr style=\"text-align: right;\">\n",
       "      <th></th>\n",
       "      <th>emri</th>\n",
       "      <th>mbiemri</th>\n",
       "      <th>email</th>\n",
       "    </tr>\n",
       "  </thead>\n",
       "  <tbody>\n",
       "    <tr>\n",
       "      <th>0</th>\n",
       "      <td>Blerta</td>\n",
       "      <td>Hoxha</td>\n",
       "      <td>blerta.hoxha@gmail.com</td>\n",
       "    </tr>\n",
       "    <tr>\n",
       "      <th>1</th>\n",
       "      <td>Agon</td>\n",
       "      <td>Shala</td>\n",
       "      <td>agon.salihu@gmail.com</td>\n",
       "    </tr>\n",
       "    <tr>\n",
       "      <th>2</th>\n",
       "      <td>Bernard</td>\n",
       "      <td>Kastrati</td>\n",
       "      <td>bernard.kastrati@gmail.com</td>\n",
       "    </tr>\n",
       "    <tr>\n",
       "      <th>3</th>\n",
       "      <td>Arbnor</td>\n",
       "      <td>Hetemi</td>\n",
       "      <td>arbnor.hetemi@gmail.com</td>\n",
       "    </tr>\n",
       "    <tr>\n",
       "      <th>4</th>\n",
       "      <td>Blerta</td>\n",
       "      <td>Ahmeti</td>\n",
       "      <td>blerta.ahmeti@gmail.com</td>\n",
       "    </tr>\n",
       "    <tr>\n",
       "      <th>5</th>\n",
       "      <td>Adnan</td>\n",
       "      <td>Lupqi</td>\n",
       "      <td>adnan.lupqi@gmail.com</td>\n",
       "    </tr>\n",
       "    <tr>\n",
       "      <th>6</th>\n",
       "      <td>Adnan</td>\n",
       "      <td>Lupqi</td>\n",
       "      <td>adnan.lupqi@gmail.com</td>\n",
       "    </tr>\n",
       "    <tr>\n",
       "      <th>email</th>\n",
       "      <td>adnan.lupqi@gmail.com</td>\n",
       "      <td>adnan.lupqi@gmail.com</td>\n",
       "      <td>adnan.lupqi@gmail.com</td>\n",
       "    </tr>\n",
       "  </tbody>\n",
       "</table>\n",
       "</div>"
      ],
      "text/plain": [
       "                        emri                mbiemri  \\\n",
       "0                     Blerta                  Hoxha   \n",
       "1                       Agon                  Shala   \n",
       "2                    Bernard               Kastrati   \n",
       "3                     Arbnor                 Hetemi   \n",
       "4                     Blerta                 Ahmeti   \n",
       "5                      Adnan                  Lupqi   \n",
       "6                      Adnan                  Lupqi   \n",
       "email  adnan.lupqi@gmail.com  adnan.lupqi@gmail.com   \n",
       "\n",
       "                            email  \n",
       "0          blerta.hoxha@gmail.com  \n",
       "1           agon.salihu@gmail.com  \n",
       "2      bernard.kastrati@gmail.com  \n",
       "3         arbnor.hetemi@gmail.com  \n",
       "4         blerta.ahmeti@gmail.com  \n",
       "5           adnan.lupqi@gmail.com  \n",
       "6           adnan.lupqi@gmail.com  \n",
       "email       adnan.lupqi@gmail.com  "
      ]
     },
     "execution_count": 122,
     "metadata": {},
     "output_type": "execute_result"
    }
   ],
   "source": [
    "df"
   ]
  },
  {
   "cell_type": "code",
   "execution_count": 124,
   "id": "3e06a67e",
   "metadata": {},
   "outputs": [],
   "source": [
    "filt=(df['email']=='adnan.lupqi@gmail.com')"
   ]
  },
  {
   "cell_type": "code",
   "execution_count": 126,
   "id": "11401c32",
   "metadata": {},
   "outputs": [
    {
     "data": {
      "text/html": [
       "<div>\n",
       "<style scoped>\n",
       "    .dataframe tbody tr th:only-of-type {\n",
       "        vertical-align: middle;\n",
       "    }\n",
       "\n",
       "    .dataframe tbody tr th {\n",
       "        vertical-align: top;\n",
       "    }\n",
       "\n",
       "    .dataframe thead th {\n",
       "        text-align: right;\n",
       "    }\n",
       "</style>\n",
       "<table border=\"1\" class=\"dataframe\">\n",
       "  <thead>\n",
       "    <tr style=\"text-align: right;\">\n",
       "      <th></th>\n",
       "      <th>emri</th>\n",
       "      <th>mbiemri</th>\n",
       "      <th>email</th>\n",
       "    </tr>\n",
       "  </thead>\n",
       "  <tbody>\n",
       "    <tr>\n",
       "      <th>5</th>\n",
       "      <td>Adnan</td>\n",
       "      <td>Lupqi</td>\n",
       "      <td>adnan.lupqi@gmail.com</td>\n",
       "    </tr>\n",
       "    <tr>\n",
       "      <th>6</th>\n",
       "      <td>Adnan</td>\n",
       "      <td>Lupqi</td>\n",
       "      <td>adnan.lupqi@gmail.com</td>\n",
       "    </tr>\n",
       "    <tr>\n",
       "      <th>email</th>\n",
       "      <td>adnan.lupqi@gmail.com</td>\n",
       "      <td>adnan.lupqi@gmail.com</td>\n",
       "      <td>adnan.lupqi@gmail.com</td>\n",
       "    </tr>\n",
       "  </tbody>\n",
       "</table>\n",
       "</div>"
      ],
      "text/plain": [
       "                        emri                mbiemri                  email\n",
       "5                      Adnan                  Lupqi  adnan.lupqi@gmail.com\n",
       "6                      Adnan                  Lupqi  adnan.lupqi@gmail.com\n",
       "email  adnan.lupqi@gmail.com  adnan.lupqi@gmail.com  adnan.lupqi@gmail.com"
      ]
     },
     "execution_count": 126,
     "metadata": {},
     "output_type": "execute_result"
    }
   ],
   "source": [
    "df[filt]"
   ]
  },
  {
   "cell_type": "code",
   "execution_count": 128,
   "id": "4add9d06",
   "metadata": {},
   "outputs": [],
   "source": [
    "filt=(df['email']=='adnan.lupqi@gmail.com')"
   ]
  },
  {
   "cell_type": "code",
   "execution_count": 129,
   "id": "f4fa45cc",
   "metadata": {},
   "outputs": [
    {
     "data": {
      "text/plain": [
       "5                        Lupqi\n",
       "6                        Lupqi\n",
       "email    adnan.lupqi@gmail.com\n",
       "Name: mbiemri, dtype: object"
      ]
     },
     "execution_count": 129,
     "metadata": {},
     "output_type": "execute_result"
    }
   ],
   "source": [
    "df[filt]['mbiemri']"
   ]
  },
  {
   "cell_type": "code",
   "execution_count": 130,
   "id": "6bab4971",
   "metadata": {},
   "outputs": [],
   "source": [
    "filt=(df['email']=='blerta.ahmeti@gmail.com')"
   ]
  },
  {
   "cell_type": "code",
   "execution_count": 131,
   "id": "fb5ce028",
   "metadata": {},
   "outputs": [
    {
     "data": {
      "text/plain": [
       "4    Ahmeti\n",
       "Name: mbiemri, dtype: object"
      ]
     },
     "execution_count": 131,
     "metadata": {},
     "output_type": "execute_result"
    }
   ],
   "source": [
    "df[filt]['mbiemri']"
   ]
  },
  {
   "cell_type": "code",
   "execution_count": 132,
   "id": "c649c8a5",
   "metadata": {},
   "outputs": [],
   "source": [
    "filt=(df['email']=='agon.salihu@gmail.com')"
   ]
  },
  {
   "cell_type": "code",
   "execution_count": 133,
   "id": "9249d6e9",
   "metadata": {},
   "outputs": [],
   "source": [
    "df.loc[filt,'mbiemri'] = 'Salihu'"
   ]
  },
  {
   "cell_type": "code",
   "execution_count": 134,
   "id": "6dbff660",
   "metadata": {},
   "outputs": [
    {
     "data": {
      "text/html": [
       "<div>\n",
       "<style scoped>\n",
       "    .dataframe tbody tr th:only-of-type {\n",
       "        vertical-align: middle;\n",
       "    }\n",
       "\n",
       "    .dataframe tbody tr th {\n",
       "        vertical-align: top;\n",
       "    }\n",
       "\n",
       "    .dataframe thead th {\n",
       "        text-align: right;\n",
       "    }\n",
       "</style>\n",
       "<table border=\"1\" class=\"dataframe\">\n",
       "  <thead>\n",
       "    <tr style=\"text-align: right;\">\n",
       "      <th></th>\n",
       "      <th>emri</th>\n",
       "      <th>mbiemri</th>\n",
       "      <th>email</th>\n",
       "    </tr>\n",
       "  </thead>\n",
       "  <tbody>\n",
       "    <tr>\n",
       "      <th>0</th>\n",
       "      <td>Blerta</td>\n",
       "      <td>Hoxha</td>\n",
       "      <td>blerta.hoxha@gmail.com</td>\n",
       "    </tr>\n",
       "    <tr>\n",
       "      <th>1</th>\n",
       "      <td>Agon</td>\n",
       "      <td>Salihu</td>\n",
       "      <td>agon.salihu@gmail.com</td>\n",
       "    </tr>\n",
       "    <tr>\n",
       "      <th>2</th>\n",
       "      <td>Bernard</td>\n",
       "      <td>Kastrati</td>\n",
       "      <td>bernard.kastrati@gmail.com</td>\n",
       "    </tr>\n",
       "    <tr>\n",
       "      <th>3</th>\n",
       "      <td>Arbnor</td>\n",
       "      <td>Hetemi</td>\n",
       "      <td>arbnor.hetemi@gmail.com</td>\n",
       "    </tr>\n",
       "    <tr>\n",
       "      <th>4</th>\n",
       "      <td>Blerta</td>\n",
       "      <td>Ahmeti</td>\n",
       "      <td>blerta.ahmeti@gmail.com</td>\n",
       "    </tr>\n",
       "    <tr>\n",
       "      <th>5</th>\n",
       "      <td>Adnan</td>\n",
       "      <td>Lupqi</td>\n",
       "      <td>adnan.lupqi@gmail.com</td>\n",
       "    </tr>\n",
       "    <tr>\n",
       "      <th>6</th>\n",
       "      <td>Adnan</td>\n",
       "      <td>Lupqi</td>\n",
       "      <td>adnan.lupqi@gmail.com</td>\n",
       "    </tr>\n",
       "    <tr>\n",
       "      <th>email</th>\n",
       "      <td>adnan.lupqi@gmail.com</td>\n",
       "      <td>adnan.lupqi@gmail.com</td>\n",
       "      <td>adnan.lupqi@gmail.com</td>\n",
       "    </tr>\n",
       "  </tbody>\n",
       "</table>\n",
       "</div>"
      ],
      "text/plain": [
       "                        emri                mbiemri  \\\n",
       "0                     Blerta                  Hoxha   \n",
       "1                       Agon                 Salihu   \n",
       "2                    Bernard               Kastrati   \n",
       "3                     Arbnor                 Hetemi   \n",
       "4                     Blerta                 Ahmeti   \n",
       "5                      Adnan                  Lupqi   \n",
       "6                      Adnan                  Lupqi   \n",
       "email  adnan.lupqi@gmail.com  adnan.lupqi@gmail.com   \n",
       "\n",
       "                            email  \n",
       "0          blerta.hoxha@gmail.com  \n",
       "1           agon.salihu@gmail.com  \n",
       "2      bernard.kastrati@gmail.com  \n",
       "3         arbnor.hetemi@gmail.com  \n",
       "4         blerta.ahmeti@gmail.com  \n",
       "5           adnan.lupqi@gmail.com  \n",
       "6           adnan.lupqi@gmail.com  \n",
       "email       adnan.lupqi@gmail.com  "
      ]
     },
     "execution_count": 134,
     "metadata": {},
     "output_type": "execute_result"
    }
   ],
   "source": [
    "df"
   ]
  },
  {
   "cell_type": "code",
   "execution_count": 135,
   "id": "500fc51b",
   "metadata": {},
   "outputs": [],
   "source": [
    "df['email']=df['email'].str.lower()"
   ]
  },
  {
   "cell_type": "code",
   "execution_count": 136,
   "id": "7adfb53c",
   "metadata": {},
   "outputs": [
    {
     "data": {
      "text/html": [
       "<div>\n",
       "<style scoped>\n",
       "    .dataframe tbody tr th:only-of-type {\n",
       "        vertical-align: middle;\n",
       "    }\n",
       "\n",
       "    .dataframe tbody tr th {\n",
       "        vertical-align: top;\n",
       "    }\n",
       "\n",
       "    .dataframe thead th {\n",
       "        text-align: right;\n",
       "    }\n",
       "</style>\n",
       "<table border=\"1\" class=\"dataframe\">\n",
       "  <thead>\n",
       "    <tr style=\"text-align: right;\">\n",
       "      <th></th>\n",
       "      <th>emri</th>\n",
       "      <th>mbiemri</th>\n",
       "      <th>email</th>\n",
       "    </tr>\n",
       "  </thead>\n",
       "  <tbody>\n",
       "    <tr>\n",
       "      <th>0</th>\n",
       "      <td>Blerta</td>\n",
       "      <td>Hoxha</td>\n",
       "      <td>blerta.hoxha@gmail.com</td>\n",
       "    </tr>\n",
       "    <tr>\n",
       "      <th>1</th>\n",
       "      <td>Agon</td>\n",
       "      <td>Salihu</td>\n",
       "      <td>agon.salihu@gmail.com</td>\n",
       "    </tr>\n",
       "    <tr>\n",
       "      <th>2</th>\n",
       "      <td>Bernard</td>\n",
       "      <td>Kastrati</td>\n",
       "      <td>bernard.kastrati@gmail.com</td>\n",
       "    </tr>\n",
       "    <tr>\n",
       "      <th>3</th>\n",
       "      <td>Arbnor</td>\n",
       "      <td>Hetemi</td>\n",
       "      <td>arbnor.hetemi@gmail.com</td>\n",
       "    </tr>\n",
       "    <tr>\n",
       "      <th>4</th>\n",
       "      <td>Blerta</td>\n",
       "      <td>Ahmeti</td>\n",
       "      <td>blerta.ahmeti@gmail.com</td>\n",
       "    </tr>\n",
       "    <tr>\n",
       "      <th>5</th>\n",
       "      <td>Adnan</td>\n",
       "      <td>Lupqi</td>\n",
       "      <td>adnan.lupqi@gmail.com</td>\n",
       "    </tr>\n",
       "    <tr>\n",
       "      <th>6</th>\n",
       "      <td>Adnan</td>\n",
       "      <td>Lupqi</td>\n",
       "      <td>adnan.lupqi@gmail.com</td>\n",
       "    </tr>\n",
       "    <tr>\n",
       "      <th>email</th>\n",
       "      <td>adnan.lupqi@gmail.com</td>\n",
       "      <td>adnan.lupqi@gmail.com</td>\n",
       "      <td>adnan.lupqi@gmail.com</td>\n",
       "    </tr>\n",
       "  </tbody>\n",
       "</table>\n",
       "</div>"
      ],
      "text/plain": [
       "                        emri                mbiemri  \\\n",
       "0                     Blerta                  Hoxha   \n",
       "1                       Agon                 Salihu   \n",
       "2                    Bernard               Kastrati   \n",
       "3                     Arbnor                 Hetemi   \n",
       "4                     Blerta                 Ahmeti   \n",
       "5                      Adnan                  Lupqi   \n",
       "6                      Adnan                  Lupqi   \n",
       "email  adnan.lupqi@gmail.com  adnan.lupqi@gmail.com   \n",
       "\n",
       "                            email  \n",
       "0          blerta.hoxha@gmail.com  \n",
       "1           agon.salihu@gmail.com  \n",
       "2      bernard.kastrati@gmail.com  \n",
       "3         arbnor.hetemi@gmail.com  \n",
       "4         blerta.ahmeti@gmail.com  \n",
       "5           adnan.lupqi@gmail.com  \n",
       "6           adnan.lupqi@gmail.com  \n",
       "email       adnan.lupqi@gmail.com  "
      ]
     },
     "execution_count": 136,
     "metadata": {},
     "output_type": "execute_result"
    }
   ],
   "source": [
    "df"
   ]
  },
  {
   "cell_type": "code",
   "execution_count": 137,
   "id": "bb72ecd6",
   "metadata": {},
   "outputs": [],
   "source": [
    "df['email']=df['email'].str.upper()"
   ]
  },
  {
   "cell_type": "code",
   "execution_count": 138,
   "id": "c9a3c0c3",
   "metadata": {},
   "outputs": [
    {
     "data": {
      "text/html": [
       "<div>\n",
       "<style scoped>\n",
       "    .dataframe tbody tr th:only-of-type {\n",
       "        vertical-align: middle;\n",
       "    }\n",
       "\n",
       "    .dataframe tbody tr th {\n",
       "        vertical-align: top;\n",
       "    }\n",
       "\n",
       "    .dataframe thead th {\n",
       "        text-align: right;\n",
       "    }\n",
       "</style>\n",
       "<table border=\"1\" class=\"dataframe\">\n",
       "  <thead>\n",
       "    <tr style=\"text-align: right;\">\n",
       "      <th></th>\n",
       "      <th>emri</th>\n",
       "      <th>mbiemri</th>\n",
       "      <th>email</th>\n",
       "    </tr>\n",
       "  </thead>\n",
       "  <tbody>\n",
       "    <tr>\n",
       "      <th>0</th>\n",
       "      <td>Blerta</td>\n",
       "      <td>Hoxha</td>\n",
       "      <td>BLERTA.HOXHA@GMAIL.COM</td>\n",
       "    </tr>\n",
       "    <tr>\n",
       "      <th>1</th>\n",
       "      <td>Agon</td>\n",
       "      <td>Salihu</td>\n",
       "      <td>AGON.SALIHU@GMAIL.COM</td>\n",
       "    </tr>\n",
       "    <tr>\n",
       "      <th>2</th>\n",
       "      <td>Bernard</td>\n",
       "      <td>Kastrati</td>\n",
       "      <td>BERNARD.KASTRATI@GMAIL.COM</td>\n",
       "    </tr>\n",
       "    <tr>\n",
       "      <th>3</th>\n",
       "      <td>Arbnor</td>\n",
       "      <td>Hetemi</td>\n",
       "      <td>ARBNOR.HETEMI@GMAIL.COM</td>\n",
       "    </tr>\n",
       "    <tr>\n",
       "      <th>4</th>\n",
       "      <td>Blerta</td>\n",
       "      <td>Ahmeti</td>\n",
       "      <td>BLERTA.AHMETI@GMAIL.COM</td>\n",
       "    </tr>\n",
       "    <tr>\n",
       "      <th>5</th>\n",
       "      <td>Adnan</td>\n",
       "      <td>Lupqi</td>\n",
       "      <td>ADNAN.LUPQI@GMAIL.COM</td>\n",
       "    </tr>\n",
       "    <tr>\n",
       "      <th>6</th>\n",
       "      <td>Adnan</td>\n",
       "      <td>Lupqi</td>\n",
       "      <td>ADNAN.LUPQI@GMAIL.COM</td>\n",
       "    </tr>\n",
       "    <tr>\n",
       "      <th>email</th>\n",
       "      <td>adnan.lupqi@gmail.com</td>\n",
       "      <td>adnan.lupqi@gmail.com</td>\n",
       "      <td>ADNAN.LUPQI@GMAIL.COM</td>\n",
       "    </tr>\n",
       "  </tbody>\n",
       "</table>\n",
       "</div>"
      ],
      "text/plain": [
       "                        emri                mbiemri  \\\n",
       "0                     Blerta                  Hoxha   \n",
       "1                       Agon                 Salihu   \n",
       "2                    Bernard               Kastrati   \n",
       "3                     Arbnor                 Hetemi   \n",
       "4                     Blerta                 Ahmeti   \n",
       "5                      Adnan                  Lupqi   \n",
       "6                      Adnan                  Lupqi   \n",
       "email  adnan.lupqi@gmail.com  adnan.lupqi@gmail.com   \n",
       "\n",
       "                            email  \n",
       "0          BLERTA.HOXHA@GMAIL.COM  \n",
       "1           AGON.SALIHU@GMAIL.COM  \n",
       "2      BERNARD.KASTRATI@GMAIL.COM  \n",
       "3         ARBNOR.HETEMI@GMAIL.COM  \n",
       "4         BLERTA.AHMETI@GMAIL.COM  \n",
       "5           ADNAN.LUPQI@GMAIL.COM  \n",
       "6           ADNAN.LUPQI@GMAIL.COM  \n",
       "email       ADNAN.LUPQI@GMAIL.COM  "
      ]
     },
     "execution_count": 138,
     "metadata": {},
     "output_type": "execute_result"
    }
   ],
   "source": [
    "df"
   ]
  },
  {
   "cell_type": "code",
   "execution_count": 139,
   "id": "90c1d730",
   "metadata": {},
   "outputs": [],
   "source": [
    "df['email']=df['email'].str.lower()"
   ]
  },
  {
   "cell_type": "code",
   "execution_count": 141,
   "id": "8b175204",
   "metadata": {
    "scrolled": true
   },
   "outputs": [
    {
     "data": {
      "text/html": [
       "<div>\n",
       "<style scoped>\n",
       "    .dataframe tbody tr th:only-of-type {\n",
       "        vertical-align: middle;\n",
       "    }\n",
       "\n",
       "    .dataframe tbody tr th {\n",
       "        vertical-align: top;\n",
       "    }\n",
       "\n",
       "    .dataframe thead th {\n",
       "        text-align: right;\n",
       "    }\n",
       "</style>\n",
       "<table border=\"1\" class=\"dataframe\">\n",
       "  <thead>\n",
       "    <tr style=\"text-align: right;\">\n",
       "      <th></th>\n",
       "      <th>emri</th>\n",
       "      <th>mbiemri</th>\n",
       "      <th>email</th>\n",
       "    </tr>\n",
       "  </thead>\n",
       "  <tbody>\n",
       "    <tr>\n",
       "      <th>0</th>\n",
       "      <td>Blerta</td>\n",
       "      <td>Hoxha</td>\n",
       "      <td>blerta.hoxha@gmail.com</td>\n",
       "    </tr>\n",
       "    <tr>\n",
       "      <th>1</th>\n",
       "      <td>Agon</td>\n",
       "      <td>Salihu</td>\n",
       "      <td>agon.salihu@gmail.com</td>\n",
       "    </tr>\n",
       "    <tr>\n",
       "      <th>2</th>\n",
       "      <td>Bernard</td>\n",
       "      <td>Kastrati</td>\n",
       "      <td>bernard.kastrati@gmail.com</td>\n",
       "    </tr>\n",
       "    <tr>\n",
       "      <th>3</th>\n",
       "      <td>Arbnor</td>\n",
       "      <td>Hetemi</td>\n",
       "      <td>arbnor.hetemi@gmail.com</td>\n",
       "    </tr>\n",
       "    <tr>\n",
       "      <th>4</th>\n",
       "      <td>Blerta</td>\n",
       "      <td>Ahmeti</td>\n",
       "      <td>blerta.ahmeti@gmail.com</td>\n",
       "    </tr>\n",
       "    <tr>\n",
       "      <th>5</th>\n",
       "      <td>Adnan</td>\n",
       "      <td>Lupqi</td>\n",
       "      <td>adnan.lupqi@gmail.com</td>\n",
       "    </tr>\n",
       "    <tr>\n",
       "      <th>6</th>\n",
       "      <td>Adnan</td>\n",
       "      <td>Lupqi</td>\n",
       "      <td>adnan.lupqi@gmail.com</td>\n",
       "    </tr>\n",
       "    <tr>\n",
       "      <th>email</th>\n",
       "      <td>adnan.lupqi@gmail.com</td>\n",
       "      <td>adnan.lupqi@gmail.com</td>\n",
       "      <td>adnan.lupqi@gmail.com</td>\n",
       "    </tr>\n",
       "  </tbody>\n",
       "</table>\n",
       "</div>"
      ],
      "text/plain": [
       "                        emri                mbiemri  \\\n",
       "0                     Blerta                  Hoxha   \n",
       "1                       Agon                 Salihu   \n",
       "2                    Bernard               Kastrati   \n",
       "3                     Arbnor                 Hetemi   \n",
       "4                     Blerta                 Ahmeti   \n",
       "5                      Adnan                  Lupqi   \n",
       "6                      Adnan                  Lupqi   \n",
       "email  adnan.lupqi@gmail.com  adnan.lupqi@gmail.com   \n",
       "\n",
       "                            email  \n",
       "0          blerta.hoxha@gmail.com  \n",
       "1           agon.salihu@gmail.com  \n",
       "2      bernard.kastrati@gmail.com  \n",
       "3         arbnor.hetemi@gmail.com  \n",
       "4         blerta.ahmeti@gmail.com  \n",
       "5           adnan.lupqi@gmail.com  \n",
       "6           adnan.lupqi@gmail.com  \n",
       "email       adnan.lupqi@gmail.com  "
      ]
     },
     "execution_count": 141,
     "metadata": {},
     "output_type": "execute_result"
    }
   ],
   "source": [
    "df"
   ]
  },
  {
   "cell_type": "code",
   "execution_count": 142,
   "id": "3e6128b0",
   "metadata": {},
   "outputs": [
    {
     "data": {
      "text/plain": [
       "0        22\n",
       "1        21\n",
       "2        26\n",
       "3        23\n",
       "4        23\n",
       "5        21\n",
       "6        21\n",
       "email    21\n",
       "Name: email, dtype: int64"
      ]
     },
     "execution_count": 142,
     "metadata": {},
     "output_type": "execute_result"
    }
   ],
   "source": [
    "df['email'].apply(len)"
   ]
  },
  {
   "cell_type": "code",
   "execution_count": 143,
   "id": "b0957185",
   "metadata": {},
   "outputs": [],
   "source": [
    "def update_email(email):\n",
    "    return email.upper()"
   ]
  },
  {
   "cell_type": "code",
   "execution_count": 144,
   "id": "0682a553",
   "metadata": {},
   "outputs": [
    {
     "data": {
      "text/plain": [
       "0            BLERTA.HOXHA@GMAIL.COM\n",
       "1             AGON.SALIHU@GMAIL.COM\n",
       "2        BERNARD.KASTRATI@GMAIL.COM\n",
       "3           ARBNOR.HETEMI@GMAIL.COM\n",
       "4           BLERTA.AHMETI@GMAIL.COM\n",
       "5             ADNAN.LUPQI@GMAIL.COM\n",
       "6             ADNAN.LUPQI@GMAIL.COM\n",
       "email         ADNAN.LUPQI@GMAIL.COM\n",
       "Name: email, dtype: object"
      ]
     },
     "execution_count": 144,
     "metadata": {},
     "output_type": "execute_result"
    }
   ],
   "source": [
    "df['email'].apply(update_email)"
   ]
  },
  {
   "cell_type": "code",
   "execution_count": 145,
   "id": "6a8df162",
   "metadata": {},
   "outputs": [],
   "source": [
    "df['email'] = df['email'].apply(lambda x: x.lower())"
   ]
  },
  {
   "cell_type": "code",
   "execution_count": 146,
   "id": "0069c593",
   "metadata": {},
   "outputs": [
    {
     "data": {
      "text/html": [
       "<div>\n",
       "<style scoped>\n",
       "    .dataframe tbody tr th:only-of-type {\n",
       "        vertical-align: middle;\n",
       "    }\n",
       "\n",
       "    .dataframe tbody tr th {\n",
       "        vertical-align: top;\n",
       "    }\n",
       "\n",
       "    .dataframe thead th {\n",
       "        text-align: right;\n",
       "    }\n",
       "</style>\n",
       "<table border=\"1\" class=\"dataframe\">\n",
       "  <thead>\n",
       "    <tr style=\"text-align: right;\">\n",
       "      <th></th>\n",
       "      <th>emri</th>\n",
       "      <th>mbiemri</th>\n",
       "      <th>email</th>\n",
       "    </tr>\n",
       "  </thead>\n",
       "  <tbody>\n",
       "    <tr>\n",
       "      <th>0</th>\n",
       "      <td>Blerta</td>\n",
       "      <td>Hoxha</td>\n",
       "      <td>blerta.hoxha@gmail.com</td>\n",
       "    </tr>\n",
       "    <tr>\n",
       "      <th>1</th>\n",
       "      <td>Agon</td>\n",
       "      <td>Salihu</td>\n",
       "      <td>agon.salihu@gmail.com</td>\n",
       "    </tr>\n",
       "    <tr>\n",
       "      <th>2</th>\n",
       "      <td>Bernard</td>\n",
       "      <td>Kastrati</td>\n",
       "      <td>bernard.kastrati@gmail.com</td>\n",
       "    </tr>\n",
       "    <tr>\n",
       "      <th>3</th>\n",
       "      <td>Arbnor</td>\n",
       "      <td>Hetemi</td>\n",
       "      <td>arbnor.hetemi@gmail.com</td>\n",
       "    </tr>\n",
       "    <tr>\n",
       "      <th>4</th>\n",
       "      <td>Blerta</td>\n",
       "      <td>Ahmeti</td>\n",
       "      <td>blerta.ahmeti@gmail.com</td>\n",
       "    </tr>\n",
       "    <tr>\n",
       "      <th>5</th>\n",
       "      <td>Adnan</td>\n",
       "      <td>Lupqi</td>\n",
       "      <td>adnan.lupqi@gmail.com</td>\n",
       "    </tr>\n",
       "    <tr>\n",
       "      <th>6</th>\n",
       "      <td>Adnan</td>\n",
       "      <td>Lupqi</td>\n",
       "      <td>adnan.lupqi@gmail.com</td>\n",
       "    </tr>\n",
       "    <tr>\n",
       "      <th>email</th>\n",
       "      <td>adnan.lupqi@gmail.com</td>\n",
       "      <td>adnan.lupqi@gmail.com</td>\n",
       "      <td>adnan.lupqi@gmail.com</td>\n",
       "    </tr>\n",
       "  </tbody>\n",
       "</table>\n",
       "</div>"
      ],
      "text/plain": [
       "                        emri                mbiemri  \\\n",
       "0                     Blerta                  Hoxha   \n",
       "1                       Agon                 Salihu   \n",
       "2                    Bernard               Kastrati   \n",
       "3                     Arbnor                 Hetemi   \n",
       "4                     Blerta                 Ahmeti   \n",
       "5                      Adnan                  Lupqi   \n",
       "6                      Adnan                  Lupqi   \n",
       "email  adnan.lupqi@gmail.com  adnan.lupqi@gmail.com   \n",
       "\n",
       "                            email  \n",
       "0          blerta.hoxha@gmail.com  \n",
       "1           agon.salihu@gmail.com  \n",
       "2      bernard.kastrati@gmail.com  \n",
       "3         arbnor.hetemi@gmail.com  \n",
       "4         blerta.ahmeti@gmail.com  \n",
       "5           adnan.lupqi@gmail.com  \n",
       "6           adnan.lupqi@gmail.com  \n",
       "email       adnan.lupqi@gmail.com  "
      ]
     },
     "execution_count": 146,
     "metadata": {},
     "output_type": "execute_result"
    }
   ],
   "source": [
    "df"
   ]
  },
  {
   "cell_type": "code",
   "execution_count": 149,
   "id": "462fdfd0",
   "metadata": {},
   "outputs": [
    {
     "data": {
      "text/plain": [
       "0        22\n",
       "1        21\n",
       "2        26\n",
       "3        23\n",
       "4        23\n",
       "5        21\n",
       "6        21\n",
       "email    21\n",
       "Name: email, dtype: int64"
      ]
     },
     "execution_count": 149,
     "metadata": {},
     "output_type": "execute_result"
    }
   ],
   "source": [
    "df['email'].apply(len)"
   ]
  },
  {
   "cell_type": "code",
   "execution_count": 150,
   "id": "e302ed8a",
   "metadata": {},
   "outputs": [
    {
     "data": {
      "text/plain": [
       "0        3\n",
       "1        3\n",
       "2        3\n",
       "3        3\n",
       "4        3\n",
       "5        3\n",
       "6        3\n",
       "email    3\n",
       "dtype: int64"
      ]
     },
     "execution_count": 150,
     "metadata": {},
     "output_type": "execute_result"
    }
   ],
   "source": [
    "df.apply(len, axis='columns')"
   ]
  },
  {
   "cell_type": "code",
   "execution_count": 159,
   "id": "1119d4a4",
   "metadata": {},
   "outputs": [
    {
     "data": {
      "text/plain": [
       "7"
      ]
     },
     "execution_count": 159,
     "metadata": {},
     "output_type": "execute_result"
    }
   ],
   "source": [
    "len(df['email'])"
   ]
  },
  {
   "cell_type": "code",
   "execution_count": 160,
   "id": "1ee7baf5",
   "metadata": {},
   "outputs": [
    {
     "data": {
      "text/html": [
       "<div>\n",
       "<style scoped>\n",
       "    .dataframe tbody tr th:only-of-type {\n",
       "        vertical-align: middle;\n",
       "    }\n",
       "\n",
       "    .dataframe tbody tr th {\n",
       "        vertical-align: top;\n",
       "    }\n",
       "\n",
       "    .dataframe thead th {\n",
       "        text-align: right;\n",
       "    }\n",
       "</style>\n",
       "<table border=\"1\" class=\"dataframe\">\n",
       "  <thead>\n",
       "    <tr style=\"text-align: right;\">\n",
       "      <th></th>\n",
       "      <th>emri</th>\n",
       "      <th>mbiemri</th>\n",
       "      <th>email</th>\n",
       "    </tr>\n",
       "  </thead>\n",
       "  <tbody>\n",
       "    <tr>\n",
       "      <th>0</th>\n",
       "      <td>Blerta</td>\n",
       "      <td>Hoxha</td>\n",
       "      <td>blerta.hoxha@gmail.com</td>\n",
       "    </tr>\n",
       "    <tr>\n",
       "      <th>1</th>\n",
       "      <td>Agon</td>\n",
       "      <td>Salihu</td>\n",
       "      <td>agon.salihu@gmail.com</td>\n",
       "    </tr>\n",
       "    <tr>\n",
       "      <th>2</th>\n",
       "      <td>Bernard</td>\n",
       "      <td>Kastrati</td>\n",
       "      <td>bernard.kastrati@gmail.com</td>\n",
       "    </tr>\n",
       "    <tr>\n",
       "      <th>3</th>\n",
       "      <td>Arbnor</td>\n",
       "      <td>Hetemi</td>\n",
       "      <td>arbnor.hetemi@gmail.com</td>\n",
       "    </tr>\n",
       "    <tr>\n",
       "      <th>4</th>\n",
       "      <td>Blerta</td>\n",
       "      <td>Ahmeti</td>\n",
       "      <td>blerta.ahmeti@gmail.com</td>\n",
       "    </tr>\n",
       "    <tr>\n",
       "      <th>5</th>\n",
       "      <td>Adnan</td>\n",
       "      <td>Lupqi</td>\n",
       "      <td></td>\n",
       "    </tr>\n",
       "    <tr>\n",
       "      <th>6</th>\n",
       "      <td>Adnan</td>\n",
       "      <td>Mehmeti</td>\n",
       "      <td>adnan.mehmeti@gmail.com</td>\n",
       "    </tr>\n",
       "  </tbody>\n",
       "</table>\n",
       "</div>"
      ],
      "text/plain": [
       "      emri   mbiemri                       email\n",
       "0   Blerta     Hoxha      blerta.hoxha@gmail.com\n",
       "1     Agon    Salihu       agon.salihu@gmail.com\n",
       "2  Bernard  Kastrati  bernard.kastrati@gmail.com\n",
       "3   Arbnor    Hetemi     arbnor.hetemi@gmail.com\n",
       "4   Blerta    Ahmeti     blerta.ahmeti@gmail.com\n",
       "5    Adnan     Lupqi                            \n",
       "6    Adnan   Mehmeti     adnan.mehmeti@gmail.com"
      ]
     },
     "execution_count": 160,
     "metadata": {},
     "output_type": "execute_result"
    }
   ],
   "source": [
    "df"
   ]
  },
  {
   "cell_type": "code",
   "execution_count": 165,
   "id": "54205369",
   "metadata": {},
   "outputs": [
    {
     "data": {
      "text/plain": [
       "emri                       Adnan\n",
       "mbiemri                   Ahmeti\n",
       "email      adnan.lupqi@gmail.com\n",
       "dtype: object"
      ]
     },
     "execution_count": 165,
     "metadata": {},
     "output_type": "execute_result"
    }
   ],
   "source": [
    "df.apply(pd.Series.min)"
   ]
  },
  {
   "cell_type": "code",
   "execution_count": 167,
   "id": "d7cfd34f",
   "metadata": {},
   "outputs": [
    {
     "data": {
      "text/plain": [
       "emri                       Adnan\n",
       "mbiemri                   Ahmeti\n",
       "email      adnan.lupqi@gmail.com\n",
       "dtype: object"
      ]
     },
     "execution_count": 167,
     "metadata": {},
     "output_type": "execute_result"
    }
   ],
   "source": [
    "df.apply(lambda x: x.min())"
   ]
  },
  {
   "cell_type": "code",
   "execution_count": 168,
   "id": "ec4b0990",
   "metadata": {},
   "outputs": [
    {
     "data": {
      "text/html": [
       "<div>\n",
       "<style scoped>\n",
       "    .dataframe tbody tr th:only-of-type {\n",
       "        vertical-align: middle;\n",
       "    }\n",
       "\n",
       "    .dataframe tbody tr th {\n",
       "        vertical-align: top;\n",
       "    }\n",
       "\n",
       "    .dataframe thead th {\n",
       "        text-align: right;\n",
       "    }\n",
       "</style>\n",
       "<table border=\"1\" class=\"dataframe\">\n",
       "  <thead>\n",
       "    <tr style=\"text-align: right;\">\n",
       "      <th></th>\n",
       "      <th>emri</th>\n",
       "      <th>mbiemri</th>\n",
       "      <th>email</th>\n",
       "    </tr>\n",
       "  </thead>\n",
       "  <tbody>\n",
       "    <tr>\n",
       "      <th>0</th>\n",
       "      <td>6</td>\n",
       "      <td>5</td>\n",
       "      <td>22</td>\n",
       "    </tr>\n",
       "    <tr>\n",
       "      <th>1</th>\n",
       "      <td>4</td>\n",
       "      <td>6</td>\n",
       "      <td>21</td>\n",
       "    </tr>\n",
       "    <tr>\n",
       "      <th>2</th>\n",
       "      <td>7</td>\n",
       "      <td>8</td>\n",
       "      <td>26</td>\n",
       "    </tr>\n",
       "    <tr>\n",
       "      <th>3</th>\n",
       "      <td>6</td>\n",
       "      <td>6</td>\n",
       "      <td>23</td>\n",
       "    </tr>\n",
       "    <tr>\n",
       "      <th>4</th>\n",
       "      <td>6</td>\n",
       "      <td>6</td>\n",
       "      <td>23</td>\n",
       "    </tr>\n",
       "    <tr>\n",
       "      <th>5</th>\n",
       "      <td>5</td>\n",
       "      <td>5</td>\n",
       "      <td>21</td>\n",
       "    </tr>\n",
       "    <tr>\n",
       "      <th>6</th>\n",
       "      <td>5</td>\n",
       "      <td>7</td>\n",
       "      <td>23</td>\n",
       "    </tr>\n",
       "  </tbody>\n",
       "</table>\n",
       "</div>"
      ],
      "text/plain": [
       "   emri  mbiemri  email\n",
       "0     6        5     22\n",
       "1     4        6     21\n",
       "2     7        8     26\n",
       "3     6        6     23\n",
       "4     6        6     23\n",
       "5     5        5     21\n",
       "6     5        7     23"
      ]
     },
     "execution_count": 168,
     "metadata": {},
     "output_type": "execute_result"
    }
   ],
   "source": [
    "df.applymap(len)"
   ]
  },
  {
   "cell_type": "code",
   "execution_count": 169,
   "id": "17e4d673",
   "metadata": {},
   "outputs": [
    {
     "data": {
      "text/html": [
       "<div>\n",
       "<style scoped>\n",
       "    .dataframe tbody tr th:only-of-type {\n",
       "        vertical-align: middle;\n",
       "    }\n",
       "\n",
       "    .dataframe tbody tr th {\n",
       "        vertical-align: top;\n",
       "    }\n",
       "\n",
       "    .dataframe thead th {\n",
       "        text-align: right;\n",
       "    }\n",
       "</style>\n",
       "<table border=\"1\" class=\"dataframe\">\n",
       "  <thead>\n",
       "    <tr style=\"text-align: right;\">\n",
       "      <th></th>\n",
       "      <th>emri</th>\n",
       "      <th>mbiemri</th>\n",
       "      <th>email</th>\n",
       "    </tr>\n",
       "  </thead>\n",
       "  <tbody>\n",
       "    <tr>\n",
       "      <th>0</th>\n",
       "      <td>BLERTA</td>\n",
       "      <td>HOXHA</td>\n",
       "      <td>BLERTA.HOXHA@GMAIL.COM</td>\n",
       "    </tr>\n",
       "    <tr>\n",
       "      <th>1</th>\n",
       "      <td>AGON</td>\n",
       "      <td>SALIHU</td>\n",
       "      <td>AGON.SALIHU@GMAIL.COM</td>\n",
       "    </tr>\n",
       "    <tr>\n",
       "      <th>2</th>\n",
       "      <td>BERNARD</td>\n",
       "      <td>KASTRATI</td>\n",
       "      <td>BERNARD.KASTRATI@GMAIL.COM</td>\n",
       "    </tr>\n",
       "    <tr>\n",
       "      <th>3</th>\n",
       "      <td>ARBNOR</td>\n",
       "      <td>HETEMI</td>\n",
       "      <td>ARBNOR.HETEMI@GMAIL.COM</td>\n",
       "    </tr>\n",
       "    <tr>\n",
       "      <th>4</th>\n",
       "      <td>BLERTA</td>\n",
       "      <td>AHMETI</td>\n",
       "      <td>BLERTA.AHMETI@GMAIL.COM</td>\n",
       "    </tr>\n",
       "    <tr>\n",
       "      <th>5</th>\n",
       "      <td>ADNAN</td>\n",
       "      <td>LUPQI</td>\n",
       "      <td>ADNAN.LUPQI@GMAIL.COM</td>\n",
       "    </tr>\n",
       "    <tr>\n",
       "      <th>6</th>\n",
       "      <td>ADNAN</td>\n",
       "      <td>MEHMETI</td>\n",
       "      <td>ADNAN.MEHMETI@GMAIL.COM</td>\n",
       "    </tr>\n",
       "  </tbody>\n",
       "</table>\n",
       "</div>"
      ],
      "text/plain": [
       "      emri   mbiemri                       email\n",
       "0   BLERTA     HOXHA      BLERTA.HOXHA@GMAIL.COM\n",
       "1     AGON    SALIHU       AGON.SALIHU@GMAIL.COM\n",
       "2  BERNARD  KASTRATI  BERNARD.KASTRATI@GMAIL.COM\n",
       "3   ARBNOR    HETEMI     ARBNOR.HETEMI@GMAIL.COM\n",
       "4   BLERTA    AHMETI     BLERTA.AHMETI@GMAIL.COM\n",
       "5    ADNAN     LUPQI       ADNAN.LUPQI@GMAIL.COM\n",
       "6    ADNAN   MEHMETI     ADNAN.MEHMETI@GMAIL.COM"
      ]
     },
     "execution_count": 169,
     "metadata": {},
     "output_type": "execute_result"
    }
   ],
   "source": [
    "df.applymap(str.upper)"
   ]
  },
  {
   "cell_type": "code",
   "execution_count": 170,
   "id": "c28ac02c",
   "metadata": {},
   "outputs": [
    {
     "data": {
      "text/plain": [
       "0    NaN\n",
       "1    NaN\n",
       "2    NaN\n",
       "3    NaN\n",
       "4    NaN\n",
       "5    NaN\n",
       "6    NaN\n",
       "Name: emri, dtype: object"
      ]
     },
     "execution_count": 170,
     "metadata": {},
     "output_type": "execute_result"
    }
   ],
   "source": [
    "df['emri'].map({'BLERTA':'BETIM','BERNARD':'ARDIT'})"
   ]
  },
  {
   "cell_type": "code",
   "execution_count": 171,
   "id": "d1f8ca93",
   "metadata": {},
   "outputs": [
    {
     "data": {
      "text/html": [
       "<div>\n",
       "<style scoped>\n",
       "    .dataframe tbody tr th:only-of-type {\n",
       "        vertical-align: middle;\n",
       "    }\n",
       "\n",
       "    .dataframe tbody tr th {\n",
       "        vertical-align: top;\n",
       "    }\n",
       "\n",
       "    .dataframe thead th {\n",
       "        text-align: right;\n",
       "    }\n",
       "</style>\n",
       "<table border=\"1\" class=\"dataframe\">\n",
       "  <thead>\n",
       "    <tr style=\"text-align: right;\">\n",
       "      <th></th>\n",
       "      <th>emri</th>\n",
       "      <th>mbiemri</th>\n",
       "      <th>email</th>\n",
       "    </tr>\n",
       "  </thead>\n",
       "  <tbody>\n",
       "    <tr>\n",
       "      <th>0</th>\n",
       "      <td>blerta</td>\n",
       "      <td>hoxha</td>\n",
       "      <td>blerta.hoxha@gmail.com</td>\n",
       "    </tr>\n",
       "    <tr>\n",
       "      <th>1</th>\n",
       "      <td>agon</td>\n",
       "      <td>salihu</td>\n",
       "      <td>agon.salihu@gmail.com</td>\n",
       "    </tr>\n",
       "    <tr>\n",
       "      <th>2</th>\n",
       "      <td>bernard</td>\n",
       "      <td>kastrati</td>\n",
       "      <td>bernard.kastrati@gmail.com</td>\n",
       "    </tr>\n",
       "    <tr>\n",
       "      <th>3</th>\n",
       "      <td>arbnor</td>\n",
       "      <td>hetemi</td>\n",
       "      <td>arbnor.hetemi@gmail.com</td>\n",
       "    </tr>\n",
       "    <tr>\n",
       "      <th>4</th>\n",
       "      <td>blerta</td>\n",
       "      <td>ahmeti</td>\n",
       "      <td>blerta.ahmeti@gmail.com</td>\n",
       "    </tr>\n",
       "    <tr>\n",
       "      <th>5</th>\n",
       "      <td>adnan</td>\n",
       "      <td>lupqi</td>\n",
       "      <td>adnan.lupqi@gmail.com</td>\n",
       "    </tr>\n",
       "    <tr>\n",
       "      <th>6</th>\n",
       "      <td>adnan</td>\n",
       "      <td>mehmeti</td>\n",
       "      <td>adnan.mehmeti@gmail.com</td>\n",
       "    </tr>\n",
       "  </tbody>\n",
       "</table>\n",
       "</div>"
      ],
      "text/plain": [
       "      emri   mbiemri                       email\n",
       "0   blerta     hoxha      blerta.hoxha@gmail.com\n",
       "1     agon    salihu       agon.salihu@gmail.com\n",
       "2  bernard  kastrati  bernard.kastrati@gmail.com\n",
       "3   arbnor    hetemi     arbnor.hetemi@gmail.com\n",
       "4   blerta    ahmeti     blerta.ahmeti@gmail.com\n",
       "5    adnan     lupqi       adnan.lupqi@gmail.com\n",
       "6    adnan   mehmeti     adnan.mehmeti@gmail.com"
      ]
     },
     "execution_count": 171,
     "metadata": {},
     "output_type": "execute_result"
    }
   ],
   "source": [
    "df.applymap(str.lower)"
   ]
  },
  {
   "cell_type": "code",
   "execution_count": 175,
   "id": "410c060c",
   "metadata": {},
   "outputs": [
    {
     "data": {
      "text/plain": [
       "0    Betim\n",
       "1      NaN\n",
       "2    Ardit\n",
       "3      NaN\n",
       "4    Betim\n",
       "5      NaN\n",
       "6      NaN\n",
       "Name: emri, dtype: object"
      ]
     },
     "execution_count": 175,
     "metadata": {},
     "output_type": "execute_result"
    }
   ],
   "source": [
    "df['emri'].map({'Blerta': 'Betim','Bernard': 'Ardit'})"
   ]
  },
  {
   "cell_type": "code",
   "execution_count": 173,
   "id": "461ed5a9",
   "metadata": {},
   "outputs": [
    {
     "data": {
      "text/html": [
       "<div>\n",
       "<style scoped>\n",
       "    .dataframe tbody tr th:only-of-type {\n",
       "        vertical-align: middle;\n",
       "    }\n",
       "\n",
       "    .dataframe tbody tr th {\n",
       "        vertical-align: top;\n",
       "    }\n",
       "\n",
       "    .dataframe thead th {\n",
       "        text-align: right;\n",
       "    }\n",
       "</style>\n",
       "<table border=\"1\" class=\"dataframe\">\n",
       "  <thead>\n",
       "    <tr style=\"text-align: right;\">\n",
       "      <th></th>\n",
       "      <th>emri</th>\n",
       "      <th>mbiemri</th>\n",
       "      <th>email</th>\n",
       "    </tr>\n",
       "  </thead>\n",
       "  <tbody>\n",
       "    <tr>\n",
       "      <th>0</th>\n",
       "      <td>Blerta</td>\n",
       "      <td>Hoxha</td>\n",
       "      <td>blerta.hoxha@gmail.com</td>\n",
       "    </tr>\n",
       "    <tr>\n",
       "      <th>1</th>\n",
       "      <td>Agon</td>\n",
       "      <td>Salihu</td>\n",
       "      <td>agon.salihu@gmail.com</td>\n",
       "    </tr>\n",
       "    <tr>\n",
       "      <th>2</th>\n",
       "      <td>Bernard</td>\n",
       "      <td>Kastrati</td>\n",
       "      <td>bernard.kastrati@gmail.com</td>\n",
       "    </tr>\n",
       "    <tr>\n",
       "      <th>3</th>\n",
       "      <td>Arbnor</td>\n",
       "      <td>Hetemi</td>\n",
       "      <td>arbnor.hetemi@gmail.com</td>\n",
       "    </tr>\n",
       "    <tr>\n",
       "      <th>4</th>\n",
       "      <td>Blerta</td>\n",
       "      <td>Ahmeti</td>\n",
       "      <td>blerta.ahmeti@gmail.com</td>\n",
       "    </tr>\n",
       "    <tr>\n",
       "      <th>5</th>\n",
       "      <td>Adnan</td>\n",
       "      <td>Lupqi</td>\n",
       "      <td>adnan.lupqi@gmail.com</td>\n",
       "    </tr>\n",
       "    <tr>\n",
       "      <th>6</th>\n",
       "      <td>Adnan</td>\n",
       "      <td>Mehmeti</td>\n",
       "      <td>adnan.mehmeti@gmail.com</td>\n",
       "    </tr>\n",
       "  </tbody>\n",
       "</table>\n",
       "</div>"
      ],
      "text/plain": [
       "      emri   mbiemri                       email\n",
       "0   Blerta     Hoxha      blerta.hoxha@gmail.com\n",
       "1     Agon    Salihu       agon.salihu@gmail.com\n",
       "2  Bernard  Kastrati  bernard.kastrati@gmail.com\n",
       "3   Arbnor    Hetemi     arbnor.hetemi@gmail.com\n",
       "4   Blerta    Ahmeti     blerta.ahmeti@gmail.com\n",
       "5    Adnan     Lupqi       adnan.lupqi@gmail.com\n",
       "6    Adnan   Mehmeti     adnan.mehmeti@gmail.com"
      ]
     },
     "execution_count": 173,
     "metadata": {},
     "output_type": "execute_result"
    }
   ],
   "source": [
    "df"
   ]
  },
  {
   "cell_type": "code",
   "execution_count": 176,
   "id": "a090fc27",
   "metadata": {},
   "outputs": [],
   "source": [
    "df['emri'] = df['emri'].replace({'Betim': 'Blerta','Ardit': 'Bernard'})"
   ]
  },
  {
   "cell_type": "code",
   "execution_count": 177,
   "id": "00836d61",
   "metadata": {},
   "outputs": [
    {
     "data": {
      "text/html": [
       "<div>\n",
       "<style scoped>\n",
       "    .dataframe tbody tr th:only-of-type {\n",
       "        vertical-align: middle;\n",
       "    }\n",
       "\n",
       "    .dataframe tbody tr th {\n",
       "        vertical-align: top;\n",
       "    }\n",
       "\n",
       "    .dataframe thead th {\n",
       "        text-align: right;\n",
       "    }\n",
       "</style>\n",
       "<table border=\"1\" class=\"dataframe\">\n",
       "  <thead>\n",
       "    <tr style=\"text-align: right;\">\n",
       "      <th></th>\n",
       "      <th>emri</th>\n",
       "      <th>mbiemri</th>\n",
       "      <th>email</th>\n",
       "    </tr>\n",
       "  </thead>\n",
       "  <tbody>\n",
       "    <tr>\n",
       "      <th>0</th>\n",
       "      <td>Blerta</td>\n",
       "      <td>Hoxha</td>\n",
       "      <td>blerta.hoxha@gmail.com</td>\n",
       "    </tr>\n",
       "    <tr>\n",
       "      <th>1</th>\n",
       "      <td>Agon</td>\n",
       "      <td>Salihu</td>\n",
       "      <td>agon.salihu@gmail.com</td>\n",
       "    </tr>\n",
       "    <tr>\n",
       "      <th>2</th>\n",
       "      <td>Bernard</td>\n",
       "      <td>Kastrati</td>\n",
       "      <td>bernard.kastrati@gmail.com</td>\n",
       "    </tr>\n",
       "    <tr>\n",
       "      <th>3</th>\n",
       "      <td>Arbnor</td>\n",
       "      <td>Hetemi</td>\n",
       "      <td>arbnor.hetemi@gmail.com</td>\n",
       "    </tr>\n",
       "    <tr>\n",
       "      <th>4</th>\n",
       "      <td>Blerta</td>\n",
       "      <td>Ahmeti</td>\n",
       "      <td>blerta.ahmeti@gmail.com</td>\n",
       "    </tr>\n",
       "    <tr>\n",
       "      <th>5</th>\n",
       "      <td>Adnan</td>\n",
       "      <td>Lupqi</td>\n",
       "      <td>adnan.lupqi@gmail.com</td>\n",
       "    </tr>\n",
       "    <tr>\n",
       "      <th>6</th>\n",
       "      <td>Adnan</td>\n",
       "      <td>Mehmeti</td>\n",
       "      <td>adnan.mehmeti@gmail.com</td>\n",
       "    </tr>\n",
       "  </tbody>\n",
       "</table>\n",
       "</div>"
      ],
      "text/plain": [
       "      emri   mbiemri                       email\n",
       "0   Blerta     Hoxha      blerta.hoxha@gmail.com\n",
       "1     Agon    Salihu       agon.salihu@gmail.com\n",
       "2  Bernard  Kastrati  bernard.kastrati@gmail.com\n",
       "3   Arbnor    Hetemi     arbnor.hetemi@gmail.com\n",
       "4   Blerta    Ahmeti     blerta.ahmeti@gmail.com\n",
       "5    Adnan     Lupqi       adnan.lupqi@gmail.com\n",
       "6    Adnan   Mehmeti     adnan.mehmeti@gmail.com"
      ]
     },
     "execution_count": 177,
     "metadata": {},
     "output_type": "execute_result"
    }
   ],
   "source": [
    "df"
   ]
  },
  {
   "cell_type": "code",
   "execution_count": null,
   "id": "adc634c5",
   "metadata": {},
   "outputs": [],
   "source": []
  }
 ],
 "metadata": {
  "kernelspec": {
   "display_name": "Python 3 (ipykernel)",
   "language": "python",
   "name": "python3"
  },
  "language_info": {
   "codemirror_mode": {
    "name": "ipython",
    "version": 3
   },
   "file_extension": ".py",
   "mimetype": "text/x-python",
   "name": "python",
   "nbconvert_exporter": "python",
   "pygments_lexer": "ipython3",
   "version": "3.9.11"
  }
 },
 "nbformat": 4,
 "nbformat_minor": 5
}
